{
 "cells": [
  {
   "cell_type": "markdown",
   "id": "a6b6e85c",
   "metadata": {},
   "source": [
    "# ERS NIRCam Demo with Eureka!\n",
    "## Authors: Megan Mansfield and Eva-Maria Ahrer\n",
    "### Hello! This notebook shows a full demonstration reducing and analyzing the NIRCam/F322W2 transit of WASP-39b from the JWST Transiting Exoplanet Early Release Science Program (ERS 1366). Following this pipeline, you should be able to reproduce the NIRCam spectrum presented in the main text of Ahrer et al. (2022). \n",
    "### This data reduction uses the [Eureka!](https://github.com/kevin218/Eureka) pipeline. Before running this Jupyter Notebook, please follow the steps in \"README.md\" to set up an environment for this demonstration and install Eureka. Note that this demonstration is using a fixed version of Eureka! to ensure that no future updates break the example here, so even if you have the current version of Eureka! installed on your own machine you'll need to follow the set-up steps to ensure this demo works properly. For more information on Eureka! see its documentation or refer to Bell et al. (2022)."
   ]
  },
  {
   "cell_type": "markdown",
   "id": "7a6e5ff5",
   "metadata": {},
   "source": [
    "## First, download the data set.\n",
    "### Data can be downloaded from MAST at: (DOI? Specify which file extensions/stage?)"
   ]
  },
  {
   "cell_type": "markdown",
   "id": "1c306e5b",
   "metadata": {},
   "source": [
    "## Next, let's import packages!"
   ]
  },
  {
   "cell_type": "code",
   "execution_count": 3,
   "id": "5801bb4b",
   "metadata": {},
   "outputs": [],
   "source": [
    "import sys\n",
    "sys.path.append('./')\n",
    "sys.path.insert(0,'./')\n",
    "import eureka.S1_detector_processing.s1_process as s1\n",
    "import eureka.S2_calibrations.s2_calibrate as s2\n",
    "import eureka.S3_data_reduction.s3_reduce as s3\n",
    "import eureka.S4_generate_lightcurves.s4_genLC as s4\n",
    "import eureka.S5_lightcurve_fitting.s5_fit as s5\n",
    "import eureka.S6_planet_spectra.s6_spectra as s6\n",
    "\n",
    "eventlabel = 'nircam_wfss_template'\n",
    "ecf_path = './ecf/'"
   ]
  },
  {
   "cell_type": "markdown",
   "id": "a8899f61",
   "metadata": {},
   "source": [
    "## Eureka! is divided into six \"Stages\". Each Stage has a corresponding Eureka Control File, or .ecf file. These files are named \"S2_eventlabel.ecf\" where the first half of the name (S2, S3, etc.) refers to the Stage that .ecf file interacts with, and the second half refers to the \"eventlabel\" keyword we defined above. See the Eureka! documentation for a full description of each stage and all keywords in the .ecf files. Here we'll give a very brief summary of each Stage and discuss a few important keywords for reproducing the paper results."
   ]
  },
  {
   "cell_type": "markdown",
   "id": "a0a2fc8b",
   "metadata": {},
   "source": [
    "## Stage 1: Correcting detector-level effects and fitting the up-the-ramp slope."
   ]
  },
  {
   "cell_type": "code",
   "execution_count": null,
   "id": "dd648e92",
   "metadata": {},
   "outputs": [],
   "source": []
  }
 ],
 "metadata": {
  "kernelspec": {
   "display_name": "eureka-test",
   "language": "python",
   "name": "eureka-test"
  },
  "language_info": {
   "codemirror_mode": {
    "name": "ipython",
    "version": 3
   },
   "file_extension": ".py",
   "mimetype": "text/x-python",
   "name": "python",
   "nbconvert_exporter": "python",
   "pygments_lexer": "ipython3",
   "version": "3.9.7"
  }
 },
 "nbformat": 4,
 "nbformat_minor": 5
}
