{
 "cells": [
  {
   "cell_type": "markdown",
   "id": "768c296d",
   "metadata": {},
   "source": [
    "# ERS NIRCam Demo with Eureka!"
   ]
  },
  {
   "cell_type": "markdown",
   "id": "98121beb",
   "metadata": {},
   "source": [
    "\n",
    "## Authors: Megan Mansfield and Eva-Maria Ahrer\n",
    " Hello! This notebook shows a full demonstration reducing and analyzing the NIRCam/F322W2 transit of WASP-39b from the JWST Transiting Exoplanet Early Release Science Program (ERS 1366). Following this pipeline, you should be able to reproduce the NIRCam spectrum presented in the main text of Ahrer et al. (2022). \n",
    " \n",
    "This data reduction uses the [Eureka!](https://github.com/kevin218/Eureka) pipeline. Before running this Jupyter Notebook, please follow the steps in \"README.md\" to set up an environment for this demonstration and install Eureka. Note that this demonstration is using a fixed version of Eureka! to ensure that no future updates break the example here, so even if you have the current version of Eureka! installed on your own machine you'll need to follow the set-up steps to ensure this demo works properly. For more information on Eureka! see its documentation or refer to Bell et al. (2022)."
   ]
  },
  {
   "cell_type": "markdown",
   "id": "0a66542c",
   "metadata": {},
   "source": [
    "### First, download the data set.\n",
    "#### Data can be downloaded from MAST at: (DOI? Specify which file extensions/stage?)\n",
    "After downloading the data, place it in a directory \"./Uncalibrated\" within this tutorial."
   ]
  },
  {
   "cell_type": "markdown",
   "id": "2fc8ab40",
   "metadata": {},
   "source": [
    "### Next, let's import packages!"
   ]
  },
  {
   "cell_type": "code",
   "execution_count": 1,
   "id": "1b26757b",
   "metadata": {},
   "outputs": [
    {
     "name": "stderr",
     "output_type": "stream",
     "text": [
      "2022-10-03 12:27:55,986 - stpipe - WARNING - No GPU/TPU found, falling back to CPU. (Set TF_CPP_MIN_LOG_LEVEL=0 and rerun for more info.)\n"
     ]
    }
   ],
   "source": [
    "import sys\n",
    "sys.path.append('./')\n",
    "sys.path.insert(0,'./')\n",
    "import eureka.S1_detector_processing.s1_process as s1\n",
    "import eureka.S2_calibrations.s2_calibrate as s2\n",
    "import eureka.S3_data_reduction.s3_reduce as s3\n",
    "import eureka.S4_generate_lightcurves.s4_genLC as s4\n",
    "import eureka.S5_lightcurve_fitting.s5_fit as s5\n",
    "import eureka.S6_planet_spectra.s6_spectra as s6\n",
    "\n",
    "from eureka.lib import readECF\n",
    "\n",
    "eventlabel = 'nircam_wasp39b'\n",
    "ecf_path = './ecf/'"
   ]
  },
  {
   "cell_type": "markdown",
   "id": "2d6b7d52",
   "metadata": {},
   "source": [
    "#### Note: Eureka! is divided into six \"Stages\". Each Stage has a corresponding Eureka! Control File or .ecf file, and in Stage 5 there's also a Eureka! Parameter File or .epf. \n",
    "These files are named \"S2_eventlabel.ecf\" where the first half of the name (S2, S3, etc.) refers to the Stage that .ecf file interacts with, and the second half refers to the \"eventlabel\" keyword we defined above. See the Eureka! documentation for a full description of each stage and all keywords in the .ecf files. Here we'll give a very brief summary of each Stage and discuss a few important keywords for reproducing the paper results."
   ]
  },
  {
   "cell_type": "markdown",
   "id": "236a961d",
   "metadata": {},
   "source": [
    "# Stage 1: Correcting detector-level effects and fitting the up-the-ramp slope.\n",
    "#### Most important keywords in the .ecf:\n",
    "1. jump_rejection_threshold - this sets the sigma threshold for rejecting a jump in the up-the-ramp slope as due to a cosmic ray hit. The standard value in the jwst pipeline is 4.0, but this data reduction found a value of 6.0 produced better results.\n",
    "2. topdir - Edit this to make it the path to where you've downloaded the data for this demo. The path should look like this: /path/to/NIRCam_demo/wasp39b_data/\n",
    "3. inputdir - This keyword tells Eureka! where to look for the Uncalibrated outputs to feed into the Stage 1 code. This path is relative to \"topdir\". In this demo, we set inputdir=/Uncalibrated\n",
    "4. outputdir - This is where Eureka! will save all the Stage 2 outputs, including plots and log files. Here we set outputdir=/Stage1, which means the output files will be saved within a folder on the path /path/to/NIRCam_demo/NIRCam_full_data/Stage1/\n",
    "#### Note that topdir, inputdir, and outputdir work the same in every .ecf file, so in each file edit them so that \"inputdir\" points to the previous Stage's outputs, and \"outputdir\" points to where you want to save that Stage's outputs."
   ]
  },
  {
   "cell_type": "code",
   "execution_count": 4,
   "id": "6aa3919a",
   "metadata": {},
   "outputs": [],
   "source": [
    "ecffile = 'S1_' + eventlabel + '.ecf'\n",
    "meta = readECF.MetaClass(ecf_path, ecffile)\n",
    "\n",
    "meta.jump_rejection_threshold = 4.0\n",
    "meta.topdir = '/path/to/NIRCam_demo/wasp39b_data/'\n",
    "meta.inputdir = '/Uncalibrated'\n",
    "meta.outputdir = '/Stage1'\n",
    "\n",
    "meta.write(ecf_path)\n",
    "\n",
    "\n",
    "## for Megan: add these lines to meta.write(ecf_path) to update meta.lines (self.lines) before it writes the .ecf file\n",
    "# for i in range(len(meta.lines)):\n",
    "#     line = meta.lines[i]\n",
    "#     # Strip off comments:\n",
    "#     if \"#\" in line:\n",
    "#         line = line[0:line.index('#')]\n",
    "#     line = line.strip()\n",
    "\n",
    "#     # Keep only useful lines:\n",
    "#     if len(line) > 0:\n",
    "#         name = line.split()[0]\n",
    "#         val = ''.join(line.split()[1:])\n",
    "#         new_val = meta.params[name]\n",
    "#         if val != new_val:\n",
    "#             #print(str(val),str(new_val))\n",
    "#             #print(meta.lines[i])\n",
    "#             #print(i)\n",
    "#             meta.lines[i] = meta.lines[i].replace(str(val),str(new_val))\n",
    "#             #print(meta.lines[i])"
   ]
  },
  {
   "cell_type": "markdown",
   "id": "1ef77f50",
   "metadata": {},
   "source": [
    "### And that's it! Let's run Stage 1!"
   ]
  },
  {
   "cell_type": "code",
   "execution_count": 6,
   "id": "2abecad4",
   "metadata": {},
   "outputs": [
    {
     "ename": "PermissionError",
     "evalue": "You do not have the permissions to make the folder /path/to/NIRCam_demo/wasp39b_data/Stage1/S1_2022-10-03_nircam_wasp39b_run1/\nYour topdir is currently set to/path/to/NIRCam_demo/wasp39b_data/, but your user account is called phrgmk.\nYou likely need to update the topdir setting in your S1 .ecf file.",
     "output_type": "error",
     "traceback": [
      "\u001b[0;31m---------------------------------------------------------------------------\u001b[0m",
      "\u001b[0;31mPermissionError\u001b[0m                           Traceback (most recent call last)",
      "File \u001b[0;32m~/.conda/envs/eureka-env/lib/python3.9/site-packages/eureka/lib/util.py:235\u001b[0m, in \u001b[0;36mmakedirectory\u001b[0;34m(meta, stage, counter, **kwargs)\u001b[0m\n\u001b[1;32m    234\u001b[0m \u001b[38;5;28;01mtry\u001b[39;00m:\n\u001b[0;32m--> 235\u001b[0m     \u001b[43mos\u001b[49m\u001b[38;5;241;43m.\u001b[39;49m\u001b[43mmakedirs\u001b[49m\u001b[43m(\u001b[49m\u001b[43moutputdir\u001b[49m\u001b[43m)\u001b[49m\n\u001b[1;32m    236\u001b[0m \u001b[38;5;28;01mexcept\u001b[39;00m (\u001b[38;5;167;01mPermissionError\u001b[39;00m, \u001b[38;5;167;01mOSError\u001b[39;00m) \u001b[38;5;28;01mas\u001b[39;00m e:\n\u001b[1;32m    237\u001b[0m     \u001b[38;5;66;03m# Raise a more helpful error message so that users know to update\u001b[39;00m\n\u001b[1;32m    238\u001b[0m     \u001b[38;5;66;03m# topdir in their ecf file\u001b[39;00m\n",
      "File \u001b[0;32m~/.conda/envs/eureka-env/lib/python3.9/os.py:215\u001b[0m, in \u001b[0;36mmakedirs\u001b[0;34m(name, mode, exist_ok)\u001b[0m\n\u001b[1;32m    214\u001b[0m \u001b[38;5;28;01mtry\u001b[39;00m:\n\u001b[0;32m--> 215\u001b[0m     \u001b[43mmakedirs\u001b[49m\u001b[43m(\u001b[49m\u001b[43mhead\u001b[49m\u001b[43m,\u001b[49m\u001b[43m \u001b[49m\u001b[43mexist_ok\u001b[49m\u001b[38;5;241;43m=\u001b[39;49m\u001b[43mexist_ok\u001b[49m\u001b[43m)\u001b[49m\n\u001b[1;32m    216\u001b[0m \u001b[38;5;28;01mexcept\u001b[39;00m \u001b[38;5;167;01mFileExistsError\u001b[39;00m:\n\u001b[1;32m    217\u001b[0m     \u001b[38;5;66;03m# Defeats race condition when another thread created the path\u001b[39;00m\n",
      "File \u001b[0;32m~/.conda/envs/eureka-env/lib/python3.9/os.py:215\u001b[0m, in \u001b[0;36mmakedirs\u001b[0;34m(name, mode, exist_ok)\u001b[0m\n\u001b[1;32m    214\u001b[0m \u001b[38;5;28;01mtry\u001b[39;00m:\n\u001b[0;32m--> 215\u001b[0m     \u001b[43mmakedirs\u001b[49m\u001b[43m(\u001b[49m\u001b[43mhead\u001b[49m\u001b[43m,\u001b[49m\u001b[43m \u001b[49m\u001b[43mexist_ok\u001b[49m\u001b[38;5;241;43m=\u001b[39;49m\u001b[43mexist_ok\u001b[49m\u001b[43m)\u001b[49m\n\u001b[1;32m    216\u001b[0m \u001b[38;5;28;01mexcept\u001b[39;00m \u001b[38;5;167;01mFileExistsError\u001b[39;00m:\n\u001b[1;32m    217\u001b[0m     \u001b[38;5;66;03m# Defeats race condition when another thread created the path\u001b[39;00m\n",
      "    \u001b[0;31m[... skipping similar frames: makedirs at line 215 (2 times)]\u001b[0m\n",
      "File \u001b[0;32m~/.conda/envs/eureka-env/lib/python3.9/os.py:215\u001b[0m, in \u001b[0;36mmakedirs\u001b[0;34m(name, mode, exist_ok)\u001b[0m\n\u001b[1;32m    214\u001b[0m \u001b[38;5;28;01mtry\u001b[39;00m:\n\u001b[0;32m--> 215\u001b[0m     \u001b[43mmakedirs\u001b[49m\u001b[43m(\u001b[49m\u001b[43mhead\u001b[49m\u001b[43m,\u001b[49m\u001b[43m \u001b[49m\u001b[43mexist_ok\u001b[49m\u001b[38;5;241;43m=\u001b[39;49m\u001b[43mexist_ok\u001b[49m\u001b[43m)\u001b[49m\n\u001b[1;32m    216\u001b[0m \u001b[38;5;28;01mexcept\u001b[39;00m \u001b[38;5;167;01mFileExistsError\u001b[39;00m:\n\u001b[1;32m    217\u001b[0m     \u001b[38;5;66;03m# Defeats race condition when another thread created the path\u001b[39;00m\n",
      "File \u001b[0;32m~/.conda/envs/eureka-env/lib/python3.9/os.py:225\u001b[0m, in \u001b[0;36mmakedirs\u001b[0;34m(name, mode, exist_ok)\u001b[0m\n\u001b[1;32m    224\u001b[0m \u001b[38;5;28;01mtry\u001b[39;00m:\n\u001b[0;32m--> 225\u001b[0m     \u001b[43mmkdir\u001b[49m\u001b[43m(\u001b[49m\u001b[43mname\u001b[49m\u001b[43m,\u001b[49m\u001b[43m \u001b[49m\u001b[43mmode\u001b[49m\u001b[43m)\u001b[49m\n\u001b[1;32m    226\u001b[0m \u001b[38;5;28;01mexcept\u001b[39;00m \u001b[38;5;167;01mOSError\u001b[39;00m:\n\u001b[1;32m    227\u001b[0m     \u001b[38;5;66;03m# Cannot rely on checking for EEXIST, since the operating system\u001b[39;00m\n\u001b[1;32m    228\u001b[0m     \u001b[38;5;66;03m# could give priority to other errors like EACCES or EROFS\u001b[39;00m\n",
      "\u001b[0;31mPermissionError\u001b[0m: [Errno 13] Permission denied: '/path'",
      "\nThe above exception was the direct cause of the following exception:\n",
      "\u001b[0;31mPermissionError\u001b[0m                           Traceback (most recent call last)",
      "Input \u001b[0;32mIn [6]\u001b[0m, in \u001b[0;36m<cell line: 1>\u001b[0;34m()\u001b[0m\n\u001b[0;32m----> 1\u001b[0m s1_meta \u001b[38;5;241m=\u001b[39m \u001b[43ms1\u001b[49m\u001b[38;5;241;43m.\u001b[39;49m\u001b[43mrampfitJWST\u001b[49m\u001b[43m(\u001b[49m\u001b[43meventlabel\u001b[49m\u001b[43m,\u001b[49m\u001b[43m \u001b[49m\u001b[43mecf_path\u001b[49m\u001b[38;5;241;43m=\u001b[39;49m\u001b[43mecf_path\u001b[49m\u001b[43m)\u001b[49m\n",
      "File \u001b[0;32m~/.conda/envs/eureka-env/lib/python3.9/site-packages/eureka/S1_detector_processing/s1_process.py:58\u001b[0m, in \u001b[0;36mrampfitJWST\u001b[0;34m(eventlabel, ecf_path, uncal_meta)\u001b[0m\n\u001b[1;32m     55\u001b[0m     meta \u001b[38;5;241m=\u001b[39m me\u001b[38;5;241m.\u001b[39mmergeevents(meta, uncal_meta)\n\u001b[1;32m     57\u001b[0m \u001b[38;5;66;03m# Create directories for Stage 1 processing outputs\u001b[39;00m\n\u001b[0;32m---> 58\u001b[0m run \u001b[38;5;241m=\u001b[39m \u001b[43mutil\u001b[49m\u001b[38;5;241;43m.\u001b[39;49m\u001b[43mmakedirectory\u001b[49m\u001b[43m(\u001b[49m\u001b[43mmeta\u001b[49m\u001b[43m,\u001b[49m\u001b[43m \u001b[49m\u001b[38;5;124;43m'\u001b[39;49m\u001b[38;5;124;43mS1\u001b[39;49m\u001b[38;5;124;43m'\u001b[39;49m\u001b[43m)\u001b[49m\n\u001b[1;32m     59\u001b[0m meta\u001b[38;5;241m.\u001b[39moutputdir \u001b[38;5;241m=\u001b[39m util\u001b[38;5;241m.\u001b[39mpathdirectory(meta, \u001b[38;5;124m'\u001b[39m\u001b[38;5;124mS1\u001b[39m\u001b[38;5;124m'\u001b[39m, run)\n\u001b[1;32m     60\u001b[0m \u001b[38;5;66;03m# Make a separate folder for plot outputs\u001b[39;00m\n",
      "File \u001b[0;32m~/.conda/envs/eureka-env/lib/python3.9/site-packages/eureka/lib/util.py:244\u001b[0m, in \u001b[0;36mmakedirectory\u001b[0;34m(meta, stage, counter, **kwargs)\u001b[0m\n\u001b[1;32m    236\u001b[0m     \u001b[38;5;28;01mexcept\u001b[39;00m (\u001b[38;5;167;01mPermissionError\u001b[39;00m, \u001b[38;5;167;01mOSError\u001b[39;00m) \u001b[38;5;28;01mas\u001b[39;00m e:\n\u001b[1;32m    237\u001b[0m         \u001b[38;5;66;03m# Raise a more helpful error message so that users know to update\u001b[39;00m\n\u001b[1;32m    238\u001b[0m         \u001b[38;5;66;03m# topdir in their ecf file\u001b[39;00m\n\u001b[1;32m    239\u001b[0m         message \u001b[38;5;241m=\u001b[39m (\u001b[38;5;124mf\u001b[39m\u001b[38;5;124m'\u001b[39m\u001b[38;5;124mYou do not have the permissions to make the folder \u001b[39m\u001b[38;5;124m'\u001b[39m\n\u001b[1;32m    240\u001b[0m                    \u001b[38;5;124mf\u001b[39m\u001b[38;5;124m'\u001b[39m\u001b[38;5;132;01m{\u001b[39;00moutputdir\u001b[38;5;132;01m}\u001b[39;00m\u001b[38;5;130;01m\\n\u001b[39;00m\u001b[38;5;124mYour topdir is currently set to\u001b[39m\u001b[38;5;124m'\u001b[39m\n\u001b[1;32m    241\u001b[0m                    \u001b[38;5;124mf\u001b[39m\u001b[38;5;124m'\u001b[39m\u001b[38;5;132;01m{\u001b[39;00mmeta\u001b[38;5;241m.\u001b[39mtopdir\u001b[38;5;132;01m}\u001b[39;00m\u001b[38;5;124m, but your user account is called \u001b[39m\u001b[38;5;124m'\u001b[39m\n\u001b[1;32m    242\u001b[0m                    \u001b[38;5;124mf\u001b[39m\u001b[38;5;124m'\u001b[39m\u001b[38;5;132;01m{\u001b[39;00mos\u001b[38;5;241m.\u001b[39mgetenv(\u001b[38;5;124m\"\u001b[39m\u001b[38;5;124mUSER\u001b[39m\u001b[38;5;124m\"\u001b[39m)\u001b[38;5;132;01m}\u001b[39;00m\u001b[38;5;124m.\u001b[39m\u001b[38;5;130;01m\\n\u001b[39;00m\u001b[38;5;124mYou likely need to update the \u001b[39m\u001b[38;5;124m'\u001b[39m\n\u001b[1;32m    243\u001b[0m                    \u001b[38;5;124mf\u001b[39m\u001b[38;5;124m'\u001b[39m\u001b[38;5;124mtopdir setting in your \u001b[39m\u001b[38;5;132;01m{\u001b[39;00mstage\u001b[38;5;132;01m}\u001b[39;00m\u001b[38;5;124m .ecf file.\u001b[39m\u001b[38;5;124m'\u001b[39m)\n\u001b[0;32m--> 244\u001b[0m         \u001b[38;5;28;01mraise\u001b[39;00m \u001b[38;5;167;01mPermissionError\u001b[39;00m(message) \u001b[38;5;28;01mfrom\u001b[39;00m \u001b[38;5;21;01me\u001b[39;00m\n\u001b[1;32m    245\u001b[0m \u001b[38;5;28;01mif\u001b[39;00m \u001b[38;5;129;01mnot\u001b[39;00m os\u001b[38;5;241m.\u001b[39mpath\u001b[38;5;241m.\u001b[39mexists(os\u001b[38;5;241m.\u001b[39mpath\u001b[38;5;241m.\u001b[39mjoin(outputdir, \u001b[38;5;124m\"\u001b[39m\u001b[38;5;124mfigs\u001b[39m\u001b[38;5;124m\"\u001b[39m)):\n\u001b[1;32m    246\u001b[0m     os\u001b[38;5;241m.\u001b[39mmakedirs(os\u001b[38;5;241m.\u001b[39mpath\u001b[38;5;241m.\u001b[39mjoin(outputdir, \u001b[38;5;124m\"\u001b[39m\u001b[38;5;124mfigs\u001b[39m\u001b[38;5;124m\"\u001b[39m))\n",
      "\u001b[0;31mPermissionError\u001b[0m: You do not have the permissions to make the folder /path/to/NIRCam_demo/wasp39b_data/Stage1/S1_2022-10-03_nircam_wasp39b_run1/\nYour topdir is currently set to/path/to/NIRCam_demo/wasp39b_data/, but your user account is called phrgmk.\nYou likely need to update the topdir setting in your S1 .ecf file."
     ]
    }
   ],
   "source": [
    "s1_meta = s1.rampfitJWST(eventlabel, ecf_path=ecf_path) "
   ]
  },
  {
   "cell_type": "markdown",
   "id": "538fda9a",
   "metadata": {},
   "source": [
    "# Stage 2: Additional pre-spectral-extraction steps, such as assignment of the world coordinate system, flat fielding, wavelength calibration. Outputs calibrated 2D images.\n",
    "#### Most important keywords in the .ecf:\n",
    "1. skip_bkg_subtract - Kevin had this set to false?? Check this.\n"
   ]
  },
  {
   "cell_type": "code",
   "execution_count": 8,
   "id": "4ed2f621",
   "metadata": {},
   "outputs": [],
   "source": [
    "ecffile = 'S2_' + eventlabel + '.ecf'\n",
    "meta = readECF.MetaClass(ecf_path, ecffile)\n",
    "meta.skip_bkg_subtract = True\n",
    "meta.hide_plots = True\n",
    "meta.write(ecf_path)"
   ]
  },
  {
   "cell_type": "markdown",
   "id": "a9c985ca",
   "metadata": {},
   "source": [
    "### Let's run Stage 2!"
   ]
  },
  {
   "cell_type": "code",
   "execution_count": null,
   "id": "fa5b39cd",
   "metadata": {},
   "outputs": [],
   "source": [
    "s2_meta = s2.calibrateJWST(eventlabel, ecf_path=ecf_path, s1_meta=s1_meta)"
   ]
  },
  {
   "cell_type": "markdown",
   "id": "9ad296fa",
   "metadata": {},
   "source": [
    "# Stage 3: Identify source position, perform background subtraction, perform spectral extraction to produce time series of 1D extracted spectra.\n",
    "#### Most important keywords in the .ecf:\n",
    "1. ncpu - Number of CPUs on your machine. This won't affect the data reduction except to make it run faster if you are able to run it on more CPUs. You can change this number to fit whatever machine you're running on.\n",
    "2. ywindow and xwindow - These specify the region of the image that you're interested in performing background subtraction and spectral extraction on. Note that this is the *full* image, not just the window surrounding the spectral trace. For this demo, the ywindow is set to ignore reference pixels on the edges of the detector, and the xwindow is set to select the region of higher throughput where the spectral trace can actually be seen in the image. These values were selected based on viewing an image in ds9 or another fits file viewer and looking at the position of the spectral trace.\n",
    "\n",
    "#### The next several parameters have to do with the background subtraction. Eureka! performs background subtraction by identifying the spectral trace, masking out a region surrounding the spectral trace, and using the remaining pixels as the background.\n",
    "\n",
    "3. bg_hw - Defines the half-width of the masked area not included in background subtraction. In this example, a value of 14 means that 14 pixels both above and below the identified source position are excluded from each column. We tested a few different values and found that 14 minimized the MAD of the resulting light curves, as it was large enough to exclude contamination from the spectrum but not so large that the background subtraction was affected by having less pixels to estimate the background from.\n",
    "4. bg_deg - The background is subtracted by doing a column-by-column polynomial fit, and bg_deg defines the degree of that fit. Setting bg_deg = -1 will just calculate and subtract out a median for each column. For this reduction, bg_deg=1 removed the background sufficiently well.\n",
    "\n",
    "#### Now some parameters for how we'll do the spectral extraction!\n",
    "5. spec_hw - Defines the half-width of the region you extract the spectrum from. In this example, a value of 9 means that the extraction will be perfomed on a box of pixels extending 9 up and 9 down from the identified source position. We tested several values and found that a half-width of 9 minimized the MAD of the resulting light curves, as it was wide enough to catch the edges of the spectrum but not so wide that it added too much background contamination.\n",
    "\n",
    "#### Finally, some parameters for printing diagnostics and saving output.\n",
    "6. isplots_S3 - How many plots do you want to create? This can be set to 1, 3, or 5, where a bigger number will print out more different types of diagnostic plots. The default in this demo is 5 so that you can see all the diagnostics."
   ]
  },
  {
   "cell_type": "code",
   "execution_count": 10,
   "id": "3ec09997",
   "metadata": {},
   "outputs": [],
   "source": [
    "ecffile = 'S3_' + eventlabel + '.ecf'\n",
    "meta = readECF.MetaClass(ecf_path, ecffile)\n",
    "\n",
    "meta.ncpu = 1\n",
    "meta.xwindow = [4,64]\n",
    "meta.ywindow = [4,1704]\n",
    "\n",
    "meta.bg_hw = 14\n",
    "meta.bg_deg = 1\n",
    "\n",
    "meta.spec_hw = 9\n",
    "\n",
    "meta.isplots_S3 = 3\n",
    "meta.hide_plots = True\n",
    "\n",
    "meta.write(ecf_path)"
   ]
  },
  {
   "cell_type": "code",
   "execution_count": null,
   "id": "c4962857",
   "metadata": {},
   "outputs": [],
   "source": [
    "s3_spec, s3_meta = s3.reduce(eventlabel, ecf_path=ecf_path, s2_meta=s2_meta)"
   ]
  },
  {
   "cell_type": "markdown",
   "id": "09f69187",
   "metadata": {},
   "source": [
    "# Stage 4: Convert 1D extracted spectra to time series light curves"
   ]
  },
  {
   "cell_type": "markdown",
   "id": "f7390ef5",
   "metadata": {},
   "source": [
    "#### Most important keywords in the .ecf:\n",
    "1. nspecchan - number of spectroscopic channels\n",
    "2. compute_white - whether to compute the white-light lightcurve\n",
    "3. wave_min and wave_max - the wavelength range in micron\n",
    "4. clip_unbinned and clip_binned - whether to perform sigma-clipping on the unbinned and/or binned 1D time series\n",
    "5. sigma - the number of sigmas a point must be from the rolling median to be considered an outlier\n",
    "\n",
    "#### Limb-darkening coefficients using exotic-ld (https://exotic-ld.readthedocs.io/en/latest/)\n",
    "6. compute_ld - whether to compute the limb-darkening coefficients with exotic-ld\n",
    "7. exotic_ld_direc - directory for ancillary files for exotic-ld (see documentation of exotic-ld)\n",
    "8. exotic_ld_grid - whether to use 3D or 1D stellar model grids\n",
    "9. exotic_ld_file - if you want to use custom throughput file (leave empty if using default)"
   ]
  },
  {
   "cell_type": "code",
   "execution_count": 12,
   "id": "45532b08",
   "metadata": {},
   "outputs": [],
   "source": [
    "ecffile = 'S4_' + eventlabel + '.ecf'\n",
    "meta = readECF.MetaClass(ecf_path, ecffile)\n",
    "\n",
    "\n",
    "meta.nspecchan = 110\n",
    "meta.wave_min = 2.405\n",
    "meta.wave_max = 4.055\n",
    "\n",
    "meta.compute_white = True \n",
    "\n",
    "meta.clip_unbinned = False   \n",
    "meta.clip_binned = True    \n",
    "meta.sigma = 4     \n",
    "\n",
    "# Limb-darkening parameters needed to compute exotic-ld\n",
    "meta.compute_ld = False\n",
    "meta.exotic_ld_direc = '/data/exotic-ld_data/' \n",
    "meta.exotic_ld_grid = '3D' \n",
    "meta.exotic_ld_file = '/data/exotic-ld_data/NIRCam_throughput_full.csv' \n",
    "\n",
    "\n",
    "meta.write(ecf_path)"
   ]
  },
  {
   "cell_type": "code",
   "execution_count": null,
   "id": "dbf8f1c6",
   "metadata": {},
   "outputs": [],
   "source": [
    "s4_spec, s4_lc, s4_meta = s4.genlc(eventlabel, ecf_path=ecf_path, s3_meta=s3_meta)"
   ]
  },
  {
   "cell_type": "markdown",
   "id": "35f6824f",
   "metadata": {},
   "source": [
    "# Stage 5: Light Curve Fitting"
   ]
  },
  {
   "cell_type": "markdown",
   "id": "24f6c5e6",
   "metadata": {},
   "source": [
    "#### Most important keywords in the .ecf:\n",
    "1. fit_method - Which fitting method to use, options are: lsq, emcee, dynesty (can list multiple types separated by commas)\n",
    "2. run_myfuncs - What does the fit consist of? Options are: batman_tr (transit model), batman_ecl (eclipse model), sinusoid_pc (phase curve), expramp (exponential ramp), polynomial, step, and GP (Gaussian Process). Must list all models you want to use!\n",
    "3. use_generate_ld - Whether to use the 'exotic-ld' limb-darkening coefficients generated in Stage 4"
   ]
  },
  {
   "cell_type": "code",
   "execution_count": 14,
   "id": "2c07ae95",
   "metadata": {},
   "outputs": [],
   "source": [
    "ecffile = 'S5_' + eventlabel + '.ecf'\n",
    "meta = readECF.MetaClass(ecf_path, ecffile)\n",
    "\n",
    "meta.fit_method = '[emcee]'               #options are: lsq, emcee, dynesty (can list multiple types separated by commas)\n",
    "meta.run_myfuncs = '[batman_tr,polynomial]'  #options are: batman_tr, batman_ecl, sinusoid_pc, expramp, polynomial, step, and GP (can list \n",
    "\n",
    "meta.use_generate_ld = 'exotic-ld' #use the generated limb-darkening coefficients from Stage 4?\n",
    "\n",
    "meta.write(ecf_path)"
   ]
  },
  {
   "cell_type": "markdown",
   "id": "5e4c1f81",
   "metadata": {},
   "source": [
    "#### Specific fitter parameters are in the cell below\n",
    "Least-squares (lsq)\n",
    "1. lsq_method - the scipy.optimize.minimize optimization method to use\n",
    "\n",
    "Markov Chain Monte Carlo (MCMC)\n",
    "1. lsq_first - whether to run a least-squares fit first and use as initial values for MCMC fit\n",
    "2. run_steps - number of steps\n",
    "3. run_nwalkers - number of walkers\n",
    "4. run_nburn - number of run_nsteps should be discarded as burn-in steps\n",
    "\n",
    "Dynesty (nested sampling)\n",
    "1. run_nlive - number of live points\n",
    "2. run_tol - tolerance value i.e. convergence criterion"
   ]
  },
  {
   "cell_type": "code",
   "execution_count": null,
   "id": "ce30698b",
   "metadata": {},
   "outputs": [],
   "source": [
    "#fitter parameters\n",
    "#lsq\n",
    "meta.lsq_method = 'Powell'\n",
    "\n",
    "#mcmc\n",
    "meta.lsq_first = True    \n",
    "meta.run_nsteps = 500\n",
    "meta.run_nwalkers = 100\n",
    "meta.run_nburn = 100     \n",
    "\n",
    "#dynesty\n",
    "meta.run_nlive = 1024    \n",
    "meta.run_tol = 0.1\n",
    "\n",
    "meta.write(ecf_path)"
   ]
  },
  {
   "cell_type": "markdown",
   "id": "be9e3ab2",
   "metadata": {},
   "source": [
    "\n",
    "## Important: Check your Parameter file (.epf file) for all parameter specific inputs e.g. prior types and ranges\n",
    "\n"
   ]
  },
  {
   "cell_type": "markdown",
   "id": "ad1437be",
   "metadata": {},
   "source": [
    "### Let's fit some light curves!"
   ]
  },
  {
   "cell_type": "code",
   "execution_count": null,
   "id": "ab0eb93b",
   "metadata": {},
   "outputs": [],
   "source": [
    "s5_meta = s5.fitlc(eventlabel, ecf_path=ecf_path, s4_meta=s4_meta)"
   ]
  },
  {
   "cell_type": "markdown",
   "id": "0d85e101",
   "metadata": {},
   "source": [
    "# Stage 6: Create Final Spectrum"
   ]
  },
  {
   "cell_type": "markdown",
   "id": "a5a006d3",
   "metadata": {},
   "source": [
    "#### Most important keywords in the .ecf:\n",
    "1. y_unit - For plotting the transmission spectrum, options include Rp/Rs, (Rp/Rs)^2, Fp/Fs\n",
    "2. y_sclar - Can be used to convert to ppm (1e6), percent (100), etc."
   ]
  },
  {
   "cell_type": "code",
   "execution_count": null,
   "id": "9d922718",
   "metadata": {},
   "outputs": [],
   "source": [
    "ecffile = 'S6_' + eventlabel + '.ecf'\n",
    "meta = readECF.MetaClass(ecf_path, ecffile)\n",
    "\n",
    "meta.y_unit = '(Rp/Rs)^2' \n",
    "meta.y_scalar = 100 \n",
    "\n",
    "meta.write(ecf_path)"
   ]
  },
  {
   "cell_type": "markdown",
   "id": "790eb624",
   "metadata": {},
   "source": [
    "### Let's run the final stage to get a transmission spectrum!"
   ]
  },
  {
   "cell_type": "code",
   "execution_count": null,
   "id": "116d15a6",
   "metadata": {},
   "outputs": [],
   "source": [
    "s6_meta = s6.plot_spectra(eventlabel, ecf_path=ecf_path, s5_meta=s5_meta)"
   ]
  }
 ],
 "metadata": {
  "kernelspec": {
   "display_name": "Python 3 (ipykernel)",
   "language": "python",
   "name": "python3"
  },
  "language_info": {
   "codemirror_mode": {
    "name": "ipython",
    "version": 3
   },
   "file_extension": ".py",
   "mimetype": "text/x-python",
   "name": "python",
   "nbconvert_exporter": "python",
   "pygments_lexer": "ipython3",
   "version": "3.9.10"
  }
 },
 "nbformat": 4,
 "nbformat_minor": 5
}
