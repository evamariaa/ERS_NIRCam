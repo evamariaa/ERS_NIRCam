{
 "cells": [
  {
   "cell_type": "markdown",
   "id": "768c296d",
   "metadata": {},
   "source": [
    "# ERS NIRCam Demo with Eureka!"
   ]
  },
  {
   "cell_type": "markdown",
   "id": "98121beb",
   "metadata": {},
   "source": [
    "\n",
    "## Authors: Megan Mansfield and Eva-Maria Ahrer\n",
    " Hello! This notebook shows a full demonstration reducing and analyzing the NIRCam/F322W2 transit of WASP-39b from the JWST Transiting Exoplanet Early Release Science Program (ERS 1366). Following this pipeline, you should be able to reproduce the NIRCam spectrum presented in the main text of Ahrer et al. (2022). \n",
    " \n",
    "This data reduction uses the [Eureka!](https://github.com/kevin218/Eureka) pipeline. Before running this Jupyter Notebook, please follow the steps in \"README.md\" to set up an environment for this demonstration and install Eureka. Note that this demonstration is using a fixed version of Eureka! to ensure that no future updates break the example here, so even if you have the current version of Eureka! installed on your own machine you'll need to follow the set-up steps to ensure this demo works properly. For more information on Eureka! see its documentation or refer to Bell et al. (2022)."
   ]
  },
  {
   "cell_type": "markdown",
   "id": "0a66542c",
   "metadata": {},
   "source": [
    "### First, download the data set.\n",
    "#### Data can be downloaded from MAST at: (DOI? Specify which file extensions/stage?)\n",
    "#### After downloading the data, place it in a directory \"./Uncalibrated\" within this tutorial."
   ]
  },
  {
   "cell_type": "markdown",
   "id": "2fc8ab40",
   "metadata": {},
   "source": [
    "### Next, let's import packages!"
   ]
  },
  {
   "cell_type": "code",
   "execution_count": 11,
   "id": "1b26757b",
   "metadata": {},
   "outputs": [],
   "source": [
    "import sys\n",
    "sys.path.append('./')\n",
    "sys.path.insert(0,'./')\n",
    "import eureka.S1_detector_processing.s1_process as s1\n",
    "import eureka.S2_calibrations.s2_calibrate as s2\n",
    "import eureka.S3_data_reduction.s3_reduce as s3\n",
    "import eureka.S4_generate_lightcurves.s4_genLC as s4\n",
    "import eureka.S5_lightcurve_fitting.s5_fit as s5\n",
    "import eureka.S6_planet_spectra.s6_spectra as s6\n",
    "\n",
    "from eureka.lib import readECF\n",
    "\n",
    "eventlabel = 'nircam_wasp39b'\n",
    "ecf_path = './ecf/'"
   ]
  },
  {
   "cell_type": "markdown",
   "id": "2d6b7d52",
   "metadata": {},
   "source": [
    "## Eureka! is divided into six \"Stages\". Each Stage has a corresponding Eureka Control File, or .ecf file. These files are named \"S2_eventlabel.ecf\" where the first half of the name (S2, S3, etc.) refers to the Stage that .ecf file interacts with, and the second half refers to the \"eventlabel\" keyword we defined above. See the Eureka! documentation for a full description of each stage and all keywords in the .ecf files. Here we'll give a very brief summary of each Stage and discuss a few important keywords for reproducing the paper results."
   ]
  },
  {
   "cell_type": "markdown",
   "id": "236a961d",
   "metadata": {},
   "source": [
    "### Stage 1: Correcting detector-level effects and fitting the up-the-ramp slope.\n",
    "#### Most important keywords in the .ecf:\n",
    "1. jump_rejection_threshold - this sets the sigma threshold for rejecting a jump in the up-the-ramp slope as due to a cosmic ray hit. The standard value in the jwst pipeline is 4.0, but this data reduction found a value of 6.0 produced better results.\n",
    "2. topdir - Edit this to make it the path to where you've downloaded the data for this demo. The path should look like this: /path/to/NIRCam_demo/wasp39b_data/\n",
    "3. inputdir - This keyword tells Eureka! where to look for the Uncalibrated outputs to feed into the Stage 1 code. This path is relative to \"topdir\". In this demo, we set inputdir=/Uncalibrated\n",
    "4. outputdir - This is where Eureka! will save all the Stage 2 outputs, including plots and log files. Here we set outputdir=/Stage1, which means the output files will be saved within a folder on the path /path/to/NIRCam_demo/NIRCam_full_data/Stage1/\n",
    "#### Note that topdir, inputdir, and outputdir work the same in every .ecf file, so in each file edit them so that \"inputdir\" points to the previous Stage's outputs, and \"outputdir\" points to where you want to save that Stage's outputs."
   ]
  },
  {
   "cell_type": "code",
   "execution_count": 19,
   "id": "6aa3919a",
   "metadata": {},
   "outputs": [],
   "source": [
    "ecffile = 'S1_' + eventlabel + '.ecf'\n",
    "meta = readECF.MetaClass(ecf_path, ecffile)\n",
    "\n",
    "meta.jump_rejection_threshold = 433.0\n",
    "meta.topdir = '/path/to/NIRCam_demo/wasp39b_data/'\n",
    "meta.inputdir = '/Uncalibrated'\n",
    "meta.outputdir = '/Stage13'\n",
    "\n",
    "meta.write(ecf_path)"
   ]
  },
  {
   "cell_type": "markdown",
   "id": "1ef77f50",
   "metadata": {},
   "source": [
    "### And that's it! Let's run Stage 1!"
   ]
  },
  {
   "cell_type": "code",
   "execution_count": 14,
   "id": "2abecad4",
   "metadata": {},
   "outputs": [
    {
     "name": "stdout",
     "output_type": "stream",
     "text": [
      "\n",
      "Starting Stage 1 Processing\n",
      "Input directory: /storage/astro2/phrgmk/Data/JWST/NIRCam/WASP-39/Uncalibrated/\n",
      "Output directory: /storage/astro2/phrgmk/Data/JWST/NIRCam/WASP-39/Stage1/S1_2022-09-29_nircam_wasp39b_run2/\n",
      "Copying S1 control file\n",
      "\n",
      "Found 4 data file(s) ending in uncal.fits\n",
      "Starting file 1 of 4: jw01366002001_04103_00001-seg001_nrcalong_uncal.fits\n"
     ]
    },
    {
     "name": "stderr",
     "output_type": "stream",
     "text": [
      "2022-09-29 12:49:48,008 - stpipe.EurekaS1Pipeline - INFO - EurekaS1Pipeline instance created.\n",
      "2022-09-29 12:49:48,008 - stpipe - CRITICAL - config: {'pre_hooks': [], 'post_hooks': [], 'output_file': None, 'output_dir': None, 'output_ext': '.fits', 'output_use_model': False, 'output_use_index': True, 'save_results': False, 'skip': False, 'suffix': None, 'search_output_file': True, 'input_dir': None, 'class': ''}\n",
      "\n",
      "\n",
      "2022-09-29 12:49:48,009 - stpipe.EurekaS1Pipeline.group_scale - INFO - GroupScaleStep instance created.\n",
      "2022-09-29 12:49:48,010 - stpipe - CRITICAL - config: {'pre_hooks': [], 'post_hooks': [], 'output_file': None, 'output_dir': None, 'output_ext': '.fits', 'output_use_model': False, 'output_use_index': True, 'save_results': False, 'skip': False, 'suffix': None, 'search_output_file': True, 'input_dir': None, 'override_mask': None, 'class': ''}\n",
      "\n",
      "\n",
      "2022-09-29 12:49:48,010 - stpipe.EurekaS1Pipeline.dq_init - INFO - DQInitStep instance created.\n",
      "2022-09-29 12:49:48,011 - stpipe - CRITICAL - config: {'pre_hooks': [], 'post_hooks': [], 'output_file': None, 'output_dir': None, 'output_ext': '.fits', 'output_use_model': False, 'output_use_index': True, 'save_results': False, 'skip': False, 'suffix': None, 'search_output_file': True, 'input_dir': None, 'n_pix_grow_sat': 1, 'override_saturation': None, 'class': ''}\n",
      "\n",
      "\n",
      "2022-09-29 12:49:48,011 - stpipe.EurekaS1Pipeline.saturation - INFO - SaturationStep instance created.\n",
      "2022-09-29 12:49:48,012 - stpipe - CRITICAL - config: {'pre_hooks': [], 'post_hooks': [], 'output_file': None, 'output_dir': None, 'output_ext': '.fits', 'output_use_model': False, 'output_use_index': True, 'save_results': False, 'skip': False, 'suffix': None, 'search_output_file': True, 'input_dir': None, 'override_ipc': None, 'class': ''}\n",
      "\n",
      "\n",
      "2022-09-29 12:49:48,012 - stpipe.EurekaS1Pipeline.ipc - INFO - IPCStep instance created.\n",
      "2022-09-29 12:49:48,013 - stpipe - CRITICAL - config: {'pre_hooks': [], 'post_hooks': [], 'output_file': None, 'output_dir': None, 'output_ext': '.fits', 'output_use_model': False, 'output_use_index': True, 'save_results': False, 'skip': False, 'suffix': None, 'search_output_file': True, 'input_dir': None, 'override_superbias': None, 'class': ''}\n",
      "\n",
      "\n",
      "2022-09-29 12:49:48,014 - stpipe.EurekaS1Pipeline.superbias - INFO - SuperBiasStep instance created.\n",
      "2022-09-29 12:49:48,015 - stpipe - CRITICAL - config: {'pre_hooks': [], 'post_hooks': [], 'output_file': None, 'output_dir': None, 'output_ext': '.fits', 'output_use_model': False, 'output_use_index': True, 'save_results': False, 'skip': False, 'suffix': None, 'search_output_file': True, 'input_dir': None, 'odd_even_columns': True, 'use_side_ref_pixels': True, 'side_smoothing_length': 11, 'side_gain': 1.0, 'odd_even_rows': True, 'override_refpix': None, 'class': ''}\n",
      "\n",
      "\n",
      "2022-09-29 12:49:48,015 - stpipe.EurekaS1Pipeline.refpix - INFO - RefPixStep instance created.\n",
      "2022-09-29 12:49:48,016 - stpipe - CRITICAL - config: {'pre_hooks': [], 'post_hooks': [], 'output_file': None, 'output_dir': None, 'output_ext': '.fits', 'output_use_model': False, 'output_use_index': True, 'save_results': False, 'skip': False, 'suffix': None, 'search_output_file': True, 'input_dir': None, 'type': 'baseline', 'override_rscd': None, 'class': ''}\n",
      "\n",
      "\n",
      "2022-09-29 12:49:48,016 - stpipe.EurekaS1Pipeline.rscd - INFO - RscdStep instance created.\n",
      "2022-09-29 12:49:48,017 - stpipe - CRITICAL - config: {'pre_hooks': [], 'post_hooks': [], 'output_file': None, 'output_dir': None, 'output_ext': '.fits', 'output_use_model': False, 'output_use_index': True, 'save_results': False, 'skip': False, 'suffix': None, 'search_output_file': True, 'input_dir': None, 'class': ''}\n",
      "\n",
      "\n",
      "2022-09-29 12:49:48,017 - stpipe.EurekaS1Pipeline.firstframe - INFO - FirstFrameStep instance created.\n",
      "2022-09-29 12:49:48,019 - stpipe - CRITICAL - config: {'pre_hooks': [], 'post_hooks': [], 'output_file': None, 'output_dir': None, 'output_ext': '.fits', 'output_use_model': False, 'output_use_index': True, 'save_results': False, 'skip': False, 'suffix': None, 'search_output_file': True, 'input_dir': None, 'class': ''}\n",
      "\n",
      "\n",
      "2022-09-29 12:49:48,019 - stpipe.EurekaS1Pipeline.lastframe - INFO - LastFrameStep instance created.\n",
      "2022-09-29 12:49:48,020 - stpipe - CRITICAL - config: {'pre_hooks': [], 'post_hooks': [], 'output_file': None, 'output_dir': None, 'output_ext': '.fits', 'output_use_model': False, 'output_use_index': True, 'save_results': False, 'skip': False, 'suffix': None, 'search_output_file': True, 'input_dir': None, 'override_linearity': None, 'class': ''}\n",
      "\n",
      "\n",
      "2022-09-29 12:49:48,021 - stpipe.EurekaS1Pipeline.linearity - INFO - LinearityStep instance created.\n",
      "2022-09-29 12:49:48,021 - stpipe - CRITICAL - config: {'pre_hooks': [], 'post_hooks': [], 'output_file': None, 'output_dir': None, 'output_ext': '.fits', 'output_use_model': False, 'output_use_index': True, 'save_results': False, 'skip': False, 'suffix': None, 'search_output_file': True, 'input_dir': None, 'dark_output': None, 'override_dark': None, 'class': ''}\n",
      "\n",
      "\n",
      "2022-09-29 12:49:48,022 - stpipe.EurekaS1Pipeline.dark_current - INFO - DarkCurrentStep instance created.\n",
      "2022-09-29 12:49:48,023 - stpipe - CRITICAL - config: {'pre_hooks': [], 'post_hooks': [], 'output_file': None, 'output_dir': None, 'output_ext': '.fits', 'output_use_model': False, 'output_use_index': True, 'save_results': False, 'skip': False, 'suffix': None, 'search_output_file': True, 'input_dir': None, 'override_reset': None, 'class': ''}\n",
      "\n",
      "\n",
      "2022-09-29 12:49:48,023 - stpipe.EurekaS1Pipeline.reset - INFO - ResetStep instance created.\n",
      "2022-09-29 12:49:48,024 - stpipe - CRITICAL - config: {'pre_hooks': [], 'post_hooks': [], 'output_file': None, 'output_dir': None, 'output_ext': '.fits', 'output_use_model': False, 'output_use_index': True, 'save_results': False, 'skip': False, 'suffix': None, 'search_output_file': True, 'input_dir': None, 'input_trapsfilled': '', 'flag_pers_cutoff': 40.0, 'save_persistence': False, 'save_trapsfilled': True, 'override_trapdensity': None, 'override_trappars': None, 'override_persat': None, 'class': ''}\n",
      "\n",
      "\n",
      "2022-09-29 12:49:48,024 - stpipe.EurekaS1Pipeline.persistence - INFO - PersistenceStep instance created.\n",
      "2022-09-29 12:49:48,025 - stpipe - CRITICAL - config: {'pre_hooks': [], 'post_hooks': [], 'output_file': None, 'output_dir': None, 'output_ext': '.fits', 'output_use_model': False, 'output_use_index': True, 'save_results': False, 'skip': False, 'suffix': None, 'search_output_file': True, 'input_dir': None, 'rejection_threshold': 4.0, 'three_group_rejection_threshold': 6.0, 'four_group_rejection_threshold': 5.0, 'maximum_cores': 'none', 'flag_4_neighbors': True, 'max_jump_to_flag_neighbors': 1000.0, 'min_jump_to_flag_neighbors': 10.0, 'override_gain': None, 'override_readnoise': None, 'class': ''}\n",
      "\n",
      "\n",
      "2022-09-29 12:49:48,026 - stpipe.EurekaS1Pipeline.jump - INFO - JumpStep instance created.\n",
      "2022-09-29 12:49:48,027 - stpipe - CRITICAL - config: {'pre_hooks': [], 'post_hooks': [], 'output_file': None, 'output_dir': None, 'output_ext': '.fits', 'output_use_model': False, 'output_use_index': True, 'save_results': False, 'skip': False, 'suffix': None, 'search_output_file': True, 'input_dir': None, 'int_name': '', 'save_opt': False, 'opt_name': '', 'suppress_one_group': True, 'maximum_cores': 'none', 'override_readnoise': None, 'override_gain': None, 'class': ''}\n",
      "\n",
      "\n",
      "2022-09-29 12:49:48,027 - stpipe.EurekaS1Pipeline.ramp_fit - INFO - RampFitStep instance created.\n",
      "2022-09-29 12:49:48,028 - stpipe - CRITICAL - config: {'pre_hooks': [], 'post_hooks': [], 'output_file': None, 'output_dir': None, 'output_ext': '.fits', 'output_use_model': False, 'output_use_index': True, 'save_results': False, 'skip': False, 'suffix': None, 'search_output_file': True, 'input_dir': None, 'override_gain': None, 'class': ''}\n",
      "\n",
      "\n",
      "2022-09-29 12:49:48,028 - stpipe.EurekaS1Pipeline.gain_scale - INFO - GainScaleStep instance created.\n",
      "2022-09-29 12:49:48,033 - stpipe.Eureka_RampFitStep - INFO - Eureka_RampFitStep instance created.\n",
      "2022-09-29 12:49:48,191 - stpipe.EurekaS1Pipeline - INFO - Step EurekaS1Pipeline running with args ('/storage/astro2/phrgmk/Data/JWST/NIRCam/WASP-39/Uncalibrated/jw01366002001_04103_00001-seg001_nrcalong_uncal.fits',).\n",
      "2022-09-29 12:49:48,200 - stpipe.EurekaS1Pipeline - INFO - Step EurekaS1Pipeline parameters are: {'pre_hooks': [], 'post_hooks': [], 'output_file': None, 'output_dir': '/storage/astro2/phrgmk/Data/JWST/NIRCam/WASP-39/Stage1/S1_2022-09-29_nircam_wasp39b_run2/', 'output_ext': '.fits', 'output_use_model': False, 'output_use_index': True, 'save_results': True, 'skip': False, 'suffix': None, 'search_output_file': True, 'input_dir': '', 'save_calibrated_ramp': False, 'steps': {'group_scale': {'pre_hooks': [], 'post_hooks': [], 'output_file': None, 'output_dir': None, 'output_ext': '.fits', 'output_use_model': False, 'output_use_index': True, 'save_results': False, 'skip': False, 'suffix': None, 'search_output_file': True, 'input_dir': ''}, 'dq_init': {'pre_hooks': [], 'post_hooks': [], 'output_file': None, 'output_dir': None, 'output_ext': '.fits', 'output_use_model': False, 'output_use_index': True, 'save_results': False, 'skip': False, 'suffix': None, 'search_output_file': True, 'input_dir': ''}, 'saturation': {'pre_hooks': [], 'post_hooks': [], 'output_file': None, 'output_dir': None, 'output_ext': '.fits', 'output_use_model': False, 'output_use_index': True, 'save_results': False, 'skip': False, 'suffix': None, 'search_output_file': True, 'input_dir': '', 'n_pix_grow_sat': 1}, 'ipc': {'pre_hooks': [], 'post_hooks': [], 'output_file': None, 'output_dir': None, 'output_ext': '.fits', 'output_use_model': False, 'output_use_index': True, 'save_results': False, 'skip': True, 'suffix': None, 'search_output_file': True, 'input_dir': ''}, 'superbias': {'pre_hooks': [], 'post_hooks': [], 'output_file': None, 'output_dir': None, 'output_ext': '.fits', 'output_use_model': False, 'output_use_index': True, 'save_results': False, 'skip': False, 'suffix': None, 'search_output_file': True, 'input_dir': ''}, 'refpix': {'pre_hooks': [], 'post_hooks': [], 'output_file': None, 'output_dir': None, 'output_ext': '.fits', 'output_use_model': False, 'output_use_index': True, 'save_results': False, 'skip': False, 'suffix': None, 'search_output_file': True, 'input_dir': '', 'odd_even_columns': True, 'use_side_ref_pixels': True, 'side_smoothing_length': 11, 'side_gain': 1.0, 'odd_even_rows': True}, 'rscd': {'pre_hooks': [], 'post_hooks': [], 'output_file': None, 'output_dir': None, 'output_ext': '.fits', 'output_use_model': False, 'output_use_index': True, 'save_results': False, 'skip': False, 'suffix': None, 'search_output_file': True, 'input_dir': '', 'type': 'baseline'}, 'firstframe': {'pre_hooks': [], 'post_hooks': [], 'output_file': None, 'output_dir': None, 'output_ext': '.fits', 'output_use_model': False, 'output_use_index': True, 'save_results': False, 'skip': False, 'suffix': None, 'search_output_file': True, 'input_dir': ''}, 'lastframe': {'pre_hooks': [], 'post_hooks': [], 'output_file': None, 'output_dir': None, 'output_ext': '.fits', 'output_use_model': False, 'output_use_index': True, 'save_results': False, 'skip': False, 'suffix': None, 'search_output_file': True, 'input_dir': ''}, 'linearity': {'pre_hooks': [], 'post_hooks': [], 'output_file': None, 'output_dir': None, 'output_ext': '.fits', 'output_use_model': False, 'output_use_index': True, 'save_results': False, 'skip': False, 'suffix': None, 'search_output_file': True, 'input_dir': ''}, 'dark_current': {'pre_hooks': [], 'post_hooks': [], 'output_file': None, 'output_dir': None, 'output_ext': '.fits', 'output_use_model': False, 'output_use_index': True, 'save_results': False, 'skip': False, 'suffix': None, 'search_output_file': True, 'input_dir': '', 'dark_output': None}, 'reset': {'pre_hooks': [], 'post_hooks': [], 'output_file': None, 'output_dir': None, 'output_ext': '.fits', 'output_use_model': False, 'output_use_index': True, 'save_results': False, 'skip': False, 'suffix': None, 'search_output_file': True, 'input_dir': ''}, 'persistence': {'pre_hooks': [], 'post_hooks': [], 'output_file': None, 'output_dir': None, 'output_ext': '.fits', 'output_use_model': False, 'output_use_index': True, 'save_results': False, 'skip': True, 'suffix': None, 'search_output_file': True, 'input_dir': '', 'input_trapsfilled': '', 'flag_pers_cutoff': 40.0, 'save_persistence': False, 'save_trapsfilled': True}, 'jump': {'pre_hooks': [], 'post_hooks': [], 'output_file': None, 'output_dir': None, 'output_ext': '.fits', 'output_use_model': False, 'output_use_index': True, 'save_results': False, 'skip': False, 'suffix': None, 'search_output_file': True, 'input_dir': '', 'rejection_threshold': 6.0, 'three_group_rejection_threshold': 6.0, 'four_group_rejection_threshold': 5.0, 'maximum_cores': 'none', 'flag_4_neighbors': True, 'max_jump_to_flag_neighbors': 1000.0, 'min_jump_to_flag_neighbors': 10.0}, 'ramp_fit': {'pre_hooks': [], 'post_hooks': [], 'output_file': None, 'output_dir': None, 'output_ext': '.fits', 'output_use_model': False, 'output_use_index': True, 'save_results': False, 'skip': False, 'suffix': None, 'search_output_file': True, 'input_dir': '', 'int_name': '', 'save_opt': False, 'opt_name': '', 'maximum_cores': 'half'}, 'gain_scale': {'pre_hooks': [], 'post_hooks': [], 'output_file': None, 'output_dir': None, 'output_ext': '.fits', 'output_use_model': False, 'output_use_index': True, 'save_results': False, 'skip': False, 'suffix': None, 'search_output_file': True, 'input_dir': ''}}}\n",
      "2022-09-29 12:49:51,265 - stpipe.EurekaS1Pipeline - INFO - Prefetching reference files for dataset: 'jw01366002001_04103_00001-seg001_nrcalong_uncal.fits' reftypes = ['dark', 'gain', 'linearity', 'mask', 'readnoise', 'refpix', 'reset', 'rscd', 'saturation', 'superbias']\n",
      "2022-09-29 12:49:53,440 - CRDS - INFO -  Fetching  /home/astro/phrgmk/crds_cache/mappings/jwst/jwst_system_calver_0030.rmap    3.7 K bytes  (1 / 35 files) (0 / 248.8 K bytes)\n",
      "2022-09-29 12:49:53,780 - CRDS - INFO -  Fetching  /home/astro/phrgmk/crds_cache/mappings/jwst/jwst_system_0029.imap      385 bytes  (2 / 35 files) (3.7 K / 248.8 K bytes)\n",
      "2022-09-29 12:49:54,123 - CRDS - INFO -  Fetching  /home/astro/phrgmk/crds_cache/mappings/jwst/jwst_nirspec_superbias_0056.rmap   30.9 K bytes  (3 / 35 files) (4.0 K / 248.8 K bytes)\n",
      "2022-09-29 12:49:54,544 - CRDS - INFO -  Fetching  /home/astro/phrgmk/crds_cache/mappings/jwst/jwst_nirspec_sflat_0017.rmap   22.1 K bytes  (4 / 35 files) (34.9 K / 248.8 K bytes)\n",
      "2022-09-29 12:49:54,966 - CRDS - INFO -  Fetching  /home/astro/phrgmk/crds_cache/mappings/jwst/jwst_nirspec_mask_0025.rmap    1.9 K bytes  (5 / 35 files) (57.0 K / 248.8 K bytes)\n",
      "2022-09-29 12:49:55,300 - CRDS - INFO -  Fetching  /home/astro/phrgmk/crds_cache/mappings/jwst/jwst_nirspec_gain_0020.rmap    1.8 K bytes  (6 / 35 files) (58.9 K / 248.8 K bytes)\n",
      "2022-09-29 12:49:55,636 - CRDS - INFO -  Fetching  /home/astro/phrgmk/crds_cache/mappings/jwst/jwst_nirspec_fflat_0012.rmap    7.2 K bytes  (7 / 35 files) (60.7 K / 248.8 K bytes)\n",
      "2022-09-29 12:49:55,971 - CRDS - INFO -  Fetching  /home/astro/phrgmk/crds_cache/mappings/jwst/jwst_nirspec_0277.imap    5.1 K bytes  (8 / 35 files) (67.9 K / 248.8 K bytes)\n",
      "2022-09-29 12:49:56,312 - CRDS - INFO -  Fetching  /home/astro/phrgmk/crds_cache/mappings/jwst/jwst_niriss_specwcs_0010.rmap    3.1 K bytes  (9 / 35 files) (73.0 K / 248.8 K bytes)\n",
      "2022-09-29 12:49:56,650 - CRDS - INFO -  Fetching  /home/astro/phrgmk/crds_cache/mappings/jwst/jwst_niriss_readnoise_0010.rmap      983 bytes  (10 / 35 files) (76.1 K / 248.8 K bytes)\n",
      "2022-09-29 12:49:56,992 - CRDS - INFO -  Fetching  /home/astro/phrgmk/crds_cache/mappings/jwst/jwst_niriss_photom_0031.rmap    1.2 K bytes  (11 / 35 files) (77.1 K / 248.8 K bytes)\n",
      "2022-09-29 12:49:57,328 - CRDS - INFO -  Fetching  /home/astro/phrgmk/crds_cache/mappings/jwst/jwst_niriss_pars-spec2pipeline_0008.rmap      984 bytes  (12 / 35 files) (78.3 K / 248.8 K bytes)\n",
      "2022-09-29 12:49:57,664 - CRDS - INFO -  Fetching  /home/astro/phrgmk/crds_cache/mappings/jwst/jwst_niriss_gain_0011.rmap      797 bytes  (13 / 35 files) (79.3 K / 248.8 K bytes)\n",
      "2022-09-29 12:49:58,014 - CRDS - INFO -  Fetching  /home/astro/phrgmk/crds_cache/mappings/jwst/jwst_niriss_distortion_0023.rmap    3.4 K bytes  (14 / 35 files) (80.1 K / 248.8 K bytes)\n",
      "2022-09-29 12:49:58,354 - CRDS - INFO -  Fetching  /home/astro/phrgmk/crds_cache/mappings/jwst/jwst_niriss_abvegaoffset_0004.rmap    1.4 K bytes  (15 / 35 files) (83.5 K / 248.8 K bytes)\n",
      "2022-09-29 12:49:58,707 - CRDS - INFO -  Fetching  /home/astro/phrgmk/crds_cache/mappings/jwst/jwst_niriss_0204.imap    5.1 K bytes  (16 / 35 files) (84.9 K / 248.8 K bytes)\n",
      "2022-09-29 12:49:59,043 - CRDS - INFO -  Fetching  /home/astro/phrgmk/crds_cache/mappings/jwst/jwst_nircam_superbias_0012.rmap   11.2 K bytes  (17 / 35 files) (90.0 K / 248.8 K bytes)\n",
      "2022-09-29 12:49:59,390 - CRDS - INFO -  Fetching  /home/astro/phrgmk/crds_cache/mappings/jwst/jwst_nircam_readnoise_0018.rmap   18.5 K bytes  (18 / 35 files) (101.3 K / 248.8 K bytes)\n",
      "2022-09-29 12:49:59,807 - CRDS - INFO -  Fetching  /home/astro/phrgmk/crds_cache/mappings/jwst/jwst_nircam_pars-spec2pipeline_0008.rmap      984 bytes  (19 / 35 files) (119.7 K / 248.8 K bytes)\n",
      "2022-09-29 12:50:00,145 - CRDS - INFO -  Fetching  /home/astro/phrgmk/crds_cache/mappings/jwst/jwst_nircam_gain_0016.rmap    2.1 K bytes  (20 / 35 files) (120.7 K / 248.8 K bytes)\n",
      "2022-09-29 12:50:00,483 - CRDS - INFO -  Fetching  /home/astro/phrgmk/crds_cache/mappings/jwst/jwst_nircam_flat_0022.rmap   51.6 K bytes  (21 / 35 files) (122.8 K / 248.8 K bytes)\n",
      "2022-09-29 12:50:00,984 - CRDS - INFO -  Fetching  /home/astro/phrgmk/crds_cache/mappings/jwst/jwst_nircam_dark_0041.rmap   22.9 K bytes  (22 / 35 files) (174.4 K / 248.8 K bytes)\n",
      "2022-09-29 12:50:01,403 - CRDS - INFO -  Fetching  /home/astro/phrgmk/crds_cache/mappings/jwst/jwst_nircam_0231.imap    5.0 K bytes  (23 / 35 files) (197.3 K / 248.8 K bytes)\n",
      "2022-09-29 12:50:01,743 - CRDS - INFO -  Fetching  /home/astro/phrgmk/crds_cache/mappings/jwst/jwst_miri_wavelengthrange_0026.rmap      929 bytes  (24 / 35 files) (202.3 K / 248.8 K bytes)\n",
      "2022-09-29 12:50:02,079 - CRDS - INFO -  Fetching  /home/astro/phrgmk/crds_cache/mappings/jwst/jwst_miri_specwcs_0032.rmap    5.5 K bytes  (25 / 35 files) (203.3 K / 248.8 K bytes)\n",
      "2022-09-29 12:50:02,417 - CRDS - INFO -  Fetching  /home/astro/phrgmk/crds_cache/mappings/jwst/jwst_miri_saturation_0015.rmap    1.2 K bytes  (26 / 35 files) (208.8 K / 248.8 K bytes)\n",
      "2022-09-29 12:50:02,753 - CRDS - INFO -  Fetching  /home/astro/phrgmk/crds_cache/mappings/jwst/jwst_miri_regions_0032.rmap    5.2 K bytes  (27 / 35 files) (210.0 K / 248.8 K bytes)\n",
      "2022-09-29 12:50:03,108 - CRDS - INFO -  Fetching  /home/astro/phrgmk/crds_cache/mappings/jwst/jwst_miri_readnoise_0023.rmap    1.6 K bytes  (28 / 35 files) (215.2 K / 248.8 K bytes)\n",
      "2022-09-29 12:50:03,447 - CRDS - INFO -  Fetching  /home/astro/phrgmk/crds_cache/mappings/jwst/jwst_miri_mask_0019.rmap    1.1 K bytes  (29 / 35 files) (216.9 K / 248.8 K bytes)\n",
      "2022-09-29 12:50:03,784 - CRDS - INFO -  Fetching  /home/astro/phrgmk/crds_cache/mappings/jwst/jwst_miri_flat_0061.rmap   15.1 K bytes  (30 / 35 files) (217.9 K / 248.8 K bytes)\n",
      "2022-09-29 12:50:04,208 - CRDS - INFO -  Fetching  /home/astro/phrgmk/crds_cache/mappings/jwst/jwst_miri_distortion_0038.rmap    4.9 K bytes  (31 / 35 files) (233.0 K / 248.8 K bytes)\n",
      "2022-09-29 12:50:04,563 - CRDS - INFO -  Fetching  /home/astro/phrgmk/crds_cache/mappings/jwst/jwst_miri_dark_0028.rmap    4.4 K bytes  (32 / 35 files) (237.9 K / 248.8 K bytes)\n",
      "2022-09-29 12:50:04,909 - CRDS - INFO -  Fetching  /home/astro/phrgmk/crds_cache/mappings/jwst/jwst_miri_cubepar_0013.rmap      800 bytes  (33 / 35 files) (242.3 K / 248.8 K bytes)\n",
      "2022-09-29 12:50:05,245 - CRDS - INFO -  Fetching  /home/astro/phrgmk/crds_cache/mappings/jwst/jwst_miri_0311.imap    5.1 K bytes  (34 / 35 files) (243.1 K / 248.8 K bytes)\n",
      "2022-09-29 12:50:05,579 - CRDS - INFO -  Fetching  /home/astro/phrgmk/crds_cache/mappings/jwst/jwst_0986.pmap      580 bytes  (35 / 35 files) (248.2 K / 248.8 K bytes)\n",
      "2022-09-29 12:50:07,103 - CRDS - INFO -  Fetching  /home/astro/phrgmk/crds_cache/references/jwst/nircam/jwst_nircam_gain_0097.fits   16.8 M bytes  (1 / 1 files) (0 / 16.8 M bytes)\n",
      "2022-09-29 12:50:13,713 - stpipe.EurekaS1Pipeline - INFO - Prefetch for DARK reference file is '/home/astro/phrgmk/crds_cache/references/jwst/nircam/jwst_nircam_dark_0355.fits'.\n",
      "2022-09-29 12:50:13,716 - stpipe.EurekaS1Pipeline - INFO - Prefetch for GAIN reference file is '/home/astro/phrgmk/crds_cache/references/jwst/nircam/jwst_nircam_gain_0097.fits'.\n",
      "2022-09-29 12:50:13,721 - stpipe.EurekaS1Pipeline - INFO - Prefetch for LINEARITY reference file is '/home/astro/phrgmk/crds_cache/references/jwst/nircam/jwst_nircam_linearity_0052.fits'.\n",
      "2022-09-29 12:50:13,723 - stpipe.EurekaS1Pipeline - INFO - Prefetch for MASK reference file is '/home/astro/phrgmk/crds_cache/references/jwst/nircam/jwst_nircam_mask_0063.fits'.\n",
      "2022-09-29 12:50:13,726 - stpipe.EurekaS1Pipeline - INFO - Prefetch for READNOISE reference file is '/home/astro/phrgmk/crds_cache/references/jwst/nircam/jwst_nircam_readnoise_0108.fits'.\n",
      "2022-09-29 12:50:13,730 - stpipe.EurekaS1Pipeline - INFO - Prefetch for REFPIX reference file is 'N/A'.\n",
      "2022-09-29 12:50:13,731 - stpipe.EurekaS1Pipeline - INFO - Prefetch for RESET reference file is 'N/A'.\n",
      "2022-09-29 12:50:13,731 - stpipe.EurekaS1Pipeline - INFO - Prefetch for RSCD reference file is 'N/A'.\n",
      "2022-09-29 12:50:13,731 - stpipe.EurekaS1Pipeline - INFO - Prefetch for SATURATION reference file is '/home/astro/phrgmk/crds_cache/references/jwst/nircam/jwst_nircam_saturation_0091.fits'.\n",
      "2022-09-29 12:50:13,733 - stpipe.EurekaS1Pipeline - INFO - Prefetch for SUPERBIAS reference file is '/home/astro/phrgmk/crds_cache/references/jwst/nircam/jwst_nircam_superbias_0048.fits'.\n",
      "2022-09-29 12:50:13,736 - stpipe.EurekaS1Pipeline - INFO - Starting calwebb_detector1 ...\n",
      "2022-09-29 12:50:16,841 - stpipe.EurekaS1Pipeline.group_scale - INFO - Step group_scale running with args (<RampModel(119, 12, 256, 2048) from jw01366002001_04103_00001-seg001_nrcalong_uncal.fits>,).\n",
      "2022-09-29 12:50:16,956 - stpipe.EurekaS1Pipeline.group_scale - INFO - Step group_scale parameters are: {'pre_hooks': [], 'post_hooks': [], 'output_file': None, 'output_dir': None, 'output_ext': '.fits', 'output_use_model': False, 'output_use_index': True, 'save_results': False, 'skip': False, 'suffix': None, 'search_output_file': True, 'input_dir': '/storage/astro2/phrgmk/Data/JWST/NIRCam/WASP-39/Uncalibrated'}\n",
      "2022-09-29 12:50:32,420 - stpipe.EurekaS1Pipeline.group_scale - INFO - NFRAMES and FRMDIVSR are equal; correction not needed\n",
      "2022-09-29 12:50:32,604 - stpipe.EurekaS1Pipeline.group_scale - INFO - Step will be skipped\n",
      "2022-09-29 12:50:32,619 - stpipe.EurekaS1Pipeline.group_scale - INFO - Step group_scale done\n",
      "2022-09-29 12:50:40,577 - stpipe.EurekaS1Pipeline.dq_init - INFO - Step dq_init running with args (<RampModel(119, 12, 256, 2048) from jw01366002001_04103_00001-seg001_nrcalong_uncal.fits>,).\n",
      "2022-09-29 12:50:40,588 - stpipe.EurekaS1Pipeline.dq_init - INFO - Step dq_init parameters are: {'pre_hooks': [], 'post_hooks': [], 'output_file': None, 'output_dir': None, 'output_ext': '.fits', 'output_use_model': False, 'output_use_index': True, 'save_results': False, 'skip': False, 'suffix': None, 'search_output_file': True, 'input_dir': '/storage/astro2/phrgmk/Data/JWST/NIRCam/WASP-39/Uncalibrated'}\n",
      "2022-09-29 12:50:40,654 - stpipe.EurekaS1Pipeline.dq_init - INFO - Using MASK reference file /home/astro/phrgmk/crds_cache/references/jwst/nircam/jwst_nircam_mask_0063.fits\n",
      "2022-09-29 12:50:43,159 - stpipe.EurekaS1Pipeline.dq_init - INFO - Extracting mask subarray to match science data\n",
      "2022-09-29 12:50:43,176 - stpipe.EurekaS1Pipeline.dq_init - INFO - Step dq_init done\n",
      "2022-09-29 12:50:43,558 - stpipe.EurekaS1Pipeline.saturation - INFO - Step saturation running with args (<RampModel(119, 12, 256, 2048) from jw01366002001_04103_00001-seg001_nrcalong_uncal.fits>,).\n",
      "2022-09-29 12:50:43,559 - stpipe.EurekaS1Pipeline.saturation - INFO - Step saturation parameters are: {'pre_hooks': [], 'post_hooks': [], 'output_file': None, 'output_dir': None, 'output_ext': '.fits', 'output_use_model': False, 'output_use_index': True, 'save_results': False, 'skip': False, 'suffix': None, 'search_output_file': True, 'input_dir': '/storage/astro2/phrgmk/Data/JWST/NIRCam/WASP-39/Uncalibrated', 'n_pix_grow_sat': 1}\n",
      "2022-09-29 12:50:43,583 - stpipe.EurekaS1Pipeline.saturation - INFO - Using SATURATION reference file /home/astro/phrgmk/crds_cache/references/jwst/nircam/jwst_nircam_saturation_0091.fits\n",
      "2022-09-29 12:50:46,473 - stpipe.EurekaS1Pipeline.saturation - INFO - Extracting reference file subarray to match science data\n",
      "2022-09-29 12:51:08,273 - stpipe.EurekaS1Pipeline.saturation - INFO - Detected 9307 saturated pixels\n",
      "2022-09-29 12:51:08,811 - stpipe.EurekaS1Pipeline.saturation - INFO - Detected 0 A/D floor pixels\n",
      "2022-09-29 12:51:08,881 - stpipe.EurekaS1Pipeline.saturation - INFO - Step saturation done\n",
      "2022-09-29 12:51:09,750 - stpipe.EurekaS1Pipeline.ipc - INFO - Step ipc running with args (<RampModel(119, 12, 256, 2048) from jw01366002001_04103_00001-seg001_nrcalong_uncal.fits>,).\n",
      "2022-09-29 12:51:09,753 - stpipe.EurekaS1Pipeline.ipc - INFO - Step ipc parameters are: {'pre_hooks': [], 'post_hooks': [], 'output_file': None, 'output_dir': None, 'output_ext': '.fits', 'output_use_model': False, 'output_use_index': True, 'save_results': False, 'skip': True, 'suffix': None, 'search_output_file': True, 'input_dir': '/storage/astro2/phrgmk/Data/JWST/NIRCam/WASP-39/Uncalibrated'}\n",
      "2022-09-29 12:51:09,753 - stpipe.EurekaS1Pipeline.ipc - INFO - Step skipped.\n",
      "2022-09-29 12:51:09,756 - stpipe.EurekaS1Pipeline.ipc - INFO - Step ipc done\n",
      "2022-09-29 12:51:09,918 - stpipe.EurekaS1Pipeline.superbias - INFO - Step superbias running with args (<RampModel(119, 12, 256, 2048) from jw01366002001_04103_00001-seg001_nrcalong_uncal.fits>,).\n",
      "2022-09-29 12:51:09,919 - stpipe.EurekaS1Pipeline.superbias - INFO - Step superbias parameters are: {'pre_hooks': [], 'post_hooks': [], 'output_file': None, 'output_dir': None, 'output_ext': '.fits', 'output_use_model': False, 'output_use_index': True, 'save_results': False, 'skip': False, 'suffix': None, 'search_output_file': True, 'input_dir': '/storage/astro2/phrgmk/Data/JWST/NIRCam/WASP-39/Uncalibrated'}\n",
      "2022-09-29 12:51:09,946 - stpipe.EurekaS1Pipeline.superbias - INFO - Using SUPERBIAS reference file /home/astro/phrgmk/crds_cache/references/jwst/nircam/jwst_nircam_superbias_0048.fits\n",
      "2022-09-29 12:51:12,756 - stpipe.EurekaS1Pipeline.superbias - INFO - Step superbias done\n",
      "2022-09-29 12:51:13,087 - stpipe.EurekaS1Pipeline.refpix - INFO - Step refpix running with args (<RampModel(119, 12, 256, 2048) from jw01366002001_04103_00001-seg001_nrcalong_uncal.fits>,).\n",
      "2022-09-29 12:51:13,089 - stpipe.EurekaS1Pipeline.refpix - INFO - Step refpix parameters are: {'pre_hooks': [], 'post_hooks': [], 'output_file': None, 'output_dir': None, 'output_ext': '.fits', 'output_use_model': False, 'output_use_index': True, 'save_results': False, 'skip': False, 'suffix': None, 'search_output_file': True, 'input_dir': '/storage/astro2/phrgmk/Data/JWST/NIRCam/WASP-39/Uncalibrated', 'odd_even_columns': True, 'use_side_ref_pixels': True, 'side_smoothing_length': 11, 'side_gain': 1.0, 'odd_even_rows': True}\n",
      "2022-09-29 12:51:14,984 - stpipe.EurekaS1Pipeline.refpix - INFO - NIR subarray data\n",
      "2022-09-29 12:51:14,989 - stpipe.EurekaS1Pipeline.refpix - INFO - 4 readout amplifiers used\n",
      "2022-09-29 12:51:14,989 - stpipe.EurekaS1Pipeline.refpix - INFO - The following parameters are valid for this mode:\n",
      "2022-09-29 12:51:14,990 - stpipe.EurekaS1Pipeline.refpix - INFO - odd_even_columns = True\n",
      "2022-09-29 12:51:14,990 - stpipe.EurekaS1Pipeline.refpix - INFO - use_side_ref_pixels = True\n",
      "2022-09-29 12:51:14,991 - stpipe.EurekaS1Pipeline.refpix - INFO - side_smoothing_length = 11\n",
      "2022-09-29 12:51:14,991 - stpipe.EurekaS1Pipeline.refpix - INFO - side_gain = 1.0\n",
      "2022-09-29 12:51:14,992 - stpipe.EurekaS1Pipeline.refpix - INFO - The following parameters are not applicable and are ignored\n",
      "2022-09-29 12:51:14,992 - stpipe.EurekaS1Pipeline.refpix - INFO - odd_even_rows = False\n",
      "2022-09-29 12:54:55,135 - stpipe.EurekaS1Pipeline.refpix - INFO - Step refpix done\n",
      "2022-09-29 12:54:56,075 - stpipe.EurekaS1Pipeline.linearity - INFO - Step linearity running with args (<RampModel(119, 12, 256, 2048) from jw01366002001_04103_00001-seg001_nrcalong_uncal.fits>,).\n",
      "2022-09-29 12:54:56,080 - stpipe.EurekaS1Pipeline.linearity - INFO - Step linearity parameters are: {'pre_hooks': [], 'post_hooks': [], 'output_file': None, 'output_dir': None, 'output_ext': '.fits', 'output_use_model': False, 'output_use_index': True, 'save_results': False, 'skip': False, 'suffix': None, 'search_output_file': True, 'input_dir': '/storage/astro2/phrgmk/Data/JWST/NIRCam/WASP-39/Uncalibrated'}\n",
      "2022-09-29 12:54:56,106 - stpipe.EurekaS1Pipeline.linearity - INFO - Using Linearity reference file /home/astro/phrgmk/crds_cache/references/jwst/nircam/jwst_nircam_linearity_0052.fits\n",
      "2022-09-29 12:54:57,754 - stpipe.EurekaS1Pipeline.linearity - WARNING - Keyword UAZ_DO_NOT_USE does not correspond to an existing DQ mnemonic, so will be ignored\n",
      "2022-09-29 12:54:57,754 - stpipe.EurekaS1Pipeline.linearity - WARNING - Keyword UAZ_NO_LIN_SAMP does not correspond to an existing DQ mnemonic, so will be ignored\n",
      "2022-09-29 12:54:57,755 - stpipe.EurekaS1Pipeline.linearity - WARNING - Keyword UAZ_BAD_LIN_FIT does not correspond to an existing DQ mnemonic, so will be ignored\n",
      "2022-09-29 12:54:57,755 - stpipe.EurekaS1Pipeline.linearity - WARNING - Keyword UAZ_NO_WELL_SAMP does not correspond to an existing DQ mnemonic, so will be ignored\n",
      "2022-09-29 12:54:57,756 - stpipe.EurekaS1Pipeline.linearity - WARNING - Keyword UAZ_MODEL_FIT_FAIL does not correspond to an existing DQ mnemonic, so will be ignored\n",
      "2022-09-29 12:54:57,756 - stpipe.EurekaS1Pipeline.linearity - WARNING - Keyword UAZ_WELL_NOT_DEFINED does not correspond to an existing DQ mnemonic, so will be ignored\n",
      "2022-09-29 12:54:57,757 - stpipe.EurekaS1Pipeline.linearity - WARNING - Keyword UAZ_MASTER_MASK does not correspond to an existing DQ mnemonic, so will be ignored\n",
      "2022-09-29 12:55:08,925 - stpipe.EurekaS1Pipeline.linearity - INFO - Step linearity done\n",
      "2022-09-29 12:55:09,221 - stpipe.EurekaS1Pipeline.persistence - INFO - Step persistence running with args (<RampModel(119, 12, 256, 2048) from jw01366002001_04103_00001-seg001_nrcalong_uncal.fits>,).\n",
      "2022-09-29 12:55:09,222 - stpipe.EurekaS1Pipeline.persistence - INFO - Step persistence parameters are: {'pre_hooks': [], 'post_hooks': [], 'output_file': None, 'output_dir': None, 'output_ext': '.fits', 'output_use_model': False, 'output_use_index': True, 'save_results': False, 'skip': True, 'suffix': None, 'search_output_file': True, 'input_dir': '/storage/astro2/phrgmk/Data/JWST/NIRCam/WASP-39/Uncalibrated', 'input_trapsfilled': '', 'flag_pers_cutoff': 40.0, 'save_persistence': False, 'save_trapsfilled': True}\n",
      "2022-09-29 12:55:09,223 - stpipe.EurekaS1Pipeline.persistence - INFO - Step skipped.\n",
      "2022-09-29 12:55:09,226 - stpipe.EurekaS1Pipeline.persistence - INFO - Step persistence done\n",
      "2022-09-29 12:55:09,368 - stpipe.EurekaS1Pipeline.dark_current - INFO - Step dark_current running with args (<RampModel(119, 12, 256, 2048) from jw01366002001_04103_00001-seg001_nrcalong_uncal.fits>,).\n",
      "2022-09-29 12:55:09,369 - stpipe.EurekaS1Pipeline.dark_current - INFO - Step dark_current parameters are: {'pre_hooks': [], 'post_hooks': [], 'output_file': None, 'output_dir': '/storage/astro2/phrgmk/Data/JWST/NIRCam/WASP-39/Stage1/S1_2022-09-29_nircam_wasp39b_run2/', 'output_ext': '.fits', 'output_use_model': False, 'output_use_index': True, 'save_results': False, 'skip': False, 'suffix': None, 'search_output_file': True, 'input_dir': '/storage/astro2/phrgmk/Data/JWST/NIRCam/WASP-39/Uncalibrated', 'dark_output': None}\n",
      "2022-09-29 12:55:09,394 - stpipe.EurekaS1Pipeline.dark_current - INFO - Using DARK reference file /home/astro/phrgmk/crds_cache/references/jwst/nircam/jwst_nircam_dark_0355.fits\n",
      "2022-09-29 12:55:12,855 - stpipe.EurekaS1Pipeline.dark_current - INFO - Science data nints=119, ngroups=12, nframes=4, groupgap=1\n",
      "2022-09-29 12:55:12,856 - stpipe.EurekaS1Pipeline.dark_current - INFO - Dark data nints=1, ngroups=80, nframes=1, groupgap=0\n"
     ]
    },
    {
     "ename": "MemoryError",
     "evalue": "Unable to allocate 2.79 GiB for an array with shape (119, 12, 256, 2048) and data type float32",
     "output_type": "error",
     "traceback": [
      "\u001b[0;31m---------------------------------------------------------------------------\u001b[0m",
      "\u001b[0;31mMemoryError\u001b[0m                               Traceback (most recent call last)",
      "Input \u001b[0;32mIn [14]\u001b[0m, in \u001b[0;36m<cell line: 1>\u001b[0;34m()\u001b[0m\n\u001b[0;32m----> 1\u001b[0m s1_meta \u001b[38;5;241m=\u001b[39m \u001b[43ms1\u001b[49m\u001b[38;5;241;43m.\u001b[39;49m\u001b[43mrampfitJWST\u001b[49m\u001b[43m(\u001b[49m\u001b[43meventlabel\u001b[49m\u001b[43m,\u001b[49m\u001b[43m \u001b[49m\u001b[43mecf_path\u001b[49m\u001b[38;5;241;43m=\u001b[39;49m\u001b[43mecf_path\u001b[49m\u001b[43m)\u001b[49m\n",
      "File \u001b[0;32m~/.conda/envs/eureka-env/lib/python3.9/site-packages/eureka/S1_detector_processing/s1_process.py:94\u001b[0m, in \u001b[0;36mrampfitJWST\u001b[0;34m(eventlabel, ecf_path)\u001b[0m\n\u001b[1;32m     91\u001b[0m             hdulist[\u001b[38;5;241m0\u001b[39m]\u001b[38;5;241m.\u001b[39mheader[\u001b[38;5;124m'\u001b[39m\u001b[38;5;124mNDITHPTS\u001b[39m\u001b[38;5;124m'\u001b[39m] \u001b[38;5;241m=\u001b[39m \u001b[38;5;241m1\u001b[39m\n\u001b[1;32m     92\u001b[0m             hdulist[\u001b[38;5;241m0\u001b[39m]\u001b[38;5;241m.\u001b[39mheader[\u001b[38;5;124m'\u001b[39m\u001b[38;5;124mNRIMDTPT\u001b[39m\u001b[38;5;124m'\u001b[39m] \u001b[38;5;241m=\u001b[39m \u001b[38;5;241m1\u001b[39m\n\u001b[0;32m---> 94\u001b[0m         \u001b[43mEurekaS1Pipeline\u001b[49m\u001b[43m(\u001b[49m\u001b[43m)\u001b[49m\u001b[38;5;241;43m.\u001b[39;49m\u001b[43mrun_eurekaS1\u001b[49m\u001b[43m(\u001b[49m\u001b[43mfilename\u001b[49m\u001b[43m,\u001b[49m\u001b[43m \u001b[49m\u001b[43mmeta\u001b[49m\u001b[43m,\u001b[49m\u001b[43m \u001b[49m\u001b[43mlog\u001b[49m\u001b[43m)\u001b[49m\n\u001b[1;32m     96\u001b[0m \u001b[38;5;66;03m# Calculate total run time\u001b[39;00m\n\u001b[1;32m     97\u001b[0m total \u001b[38;5;241m=\u001b[39m (time_pkg\u001b[38;5;241m.\u001b[39mtime() \u001b[38;5;241m-\u001b[39m t0) \u001b[38;5;241m/\u001b[39m \u001b[38;5;241m60.\u001b[39m\n",
      "File \u001b[0;32m~/.conda/envs/eureka-env/lib/python3.9/site-packages/eureka/S1_detector_processing/s1_process.py:200\u001b[0m, in \u001b[0;36mEurekaS1Pipeline.run_eurekaS1\u001b[0;34m(self, filename, meta, log)\u001b[0m\n\u001b[1;32m    196\u001b[0m         \u001b[38;5;28mself\u001b[39m\u001b[38;5;241m.\u001b[39mramp_fit\u001b[38;5;241m.\u001b[39mcustom_exponents \u001b[38;5;241m=\u001b[39m \\\n\u001b[1;32m    197\u001b[0m             meta\u001b[38;5;241m.\u001b[39mdefault_ramp_fit_custom_exponents\n\u001b[1;32m    199\u001b[0m \u001b[38;5;66;03m# Run Stage 1\u001b[39;00m\n\u001b[0;32m--> 200\u001b[0m \u001b[38;5;28;43mself\u001b[39;49m\u001b[43m(\u001b[49m\u001b[43mfilename\u001b[49m\u001b[43m)\u001b[49m\n\u001b[1;32m    202\u001b[0m \u001b[38;5;28;01mreturn\u001b[39;00m\n",
      "File \u001b[0;32m~/.local/lib/python3.9/site-packages/stpipe/step.py:485\u001b[0m, in \u001b[0;36mStep.run\u001b[0;34m(self, *args)\u001b[0m\n\u001b[1;32m    483\u001b[0m     \u001b[38;5;28mself\u001b[39m\u001b[38;5;241m.\u001b[39mprefetch(\u001b[38;5;241m*\u001b[39margs)\n\u001b[1;32m    484\u001b[0m \u001b[38;5;28;01mtry\u001b[39;00m:\n\u001b[0;32m--> 485\u001b[0m     step_result \u001b[38;5;241m=\u001b[39m \u001b[38;5;28;43mself\u001b[39;49m\u001b[38;5;241;43m.\u001b[39;49m\u001b[43mprocess\u001b[49m\u001b[43m(\u001b[49m\u001b[38;5;241;43m*\u001b[39;49m\u001b[43margs\u001b[49m\u001b[43m)\u001b[49m\n\u001b[1;32m    486\u001b[0m \u001b[38;5;28;01mexcept\u001b[39;00m \u001b[38;5;167;01mTypeError\u001b[39;00m \u001b[38;5;28;01mas\u001b[39;00m e:\n\u001b[1;32m    487\u001b[0m     \u001b[38;5;28;01mif\u001b[39;00m \u001b[38;5;124m\"\u001b[39m\u001b[38;5;124mprocess() takes exactly\u001b[39m\u001b[38;5;124m\"\u001b[39m \u001b[38;5;129;01min\u001b[39;00m \u001b[38;5;28mstr\u001b[39m(e):\n",
      "File \u001b[0;32m~/.local/lib/python3.9/site-packages/jwst/pipeline/calwebb_detector1.py:116\u001b[0m, in \u001b[0;36mDetector1Pipeline.process\u001b[0;34m(self, input)\u001b[0m\n\u001b[1;32m    113\u001b[0m     \u001b[38;5;28;01mif\u001b[39;00m instrument \u001b[38;5;241m!=\u001b[39m \u001b[38;5;124m'\u001b[39m\u001b[38;5;124mNIRSPEC\u001b[39m\u001b[38;5;124m'\u001b[39m:\n\u001b[1;32m    114\u001b[0m         \u001b[38;5;28minput\u001b[39m \u001b[38;5;241m=\u001b[39m \u001b[38;5;28mself\u001b[39m\u001b[38;5;241m.\u001b[39mpersistence(\u001b[38;5;28minput\u001b[39m)\n\u001b[0;32m--> 116\u001b[0m     \u001b[38;5;28minput\u001b[39m \u001b[38;5;241m=\u001b[39m \u001b[38;5;28;43mself\u001b[39;49m\u001b[38;5;241;43m.\u001b[39;49m\u001b[43mdark_current\u001b[49m\u001b[43m(\u001b[49m\u001b[38;5;28;43minput\u001b[39;49m\u001b[43m)\u001b[49m\n\u001b[1;32m    118\u001b[0m \u001b[38;5;66;03m# apply the jump step\u001b[39;00m\n\u001b[1;32m    119\u001b[0m \u001b[38;5;28minput\u001b[39m \u001b[38;5;241m=\u001b[39m \u001b[38;5;28mself\u001b[39m\u001b[38;5;241m.\u001b[39mjump(\u001b[38;5;28minput\u001b[39m)\n",
      "File \u001b[0;32m~/.local/lib/python3.9/site-packages/stpipe/step.py:485\u001b[0m, in \u001b[0;36mStep.run\u001b[0;34m(self, *args)\u001b[0m\n\u001b[1;32m    483\u001b[0m     \u001b[38;5;28mself\u001b[39m\u001b[38;5;241m.\u001b[39mprefetch(\u001b[38;5;241m*\u001b[39margs)\n\u001b[1;32m    484\u001b[0m \u001b[38;5;28;01mtry\u001b[39;00m:\n\u001b[0;32m--> 485\u001b[0m     step_result \u001b[38;5;241m=\u001b[39m \u001b[38;5;28;43mself\u001b[39;49m\u001b[38;5;241;43m.\u001b[39;49m\u001b[43mprocess\u001b[49m\u001b[43m(\u001b[49m\u001b[38;5;241;43m*\u001b[39;49m\u001b[43margs\u001b[49m\u001b[43m)\u001b[49m\n\u001b[1;32m    486\u001b[0m \u001b[38;5;28;01mexcept\u001b[39;00m \u001b[38;5;167;01mTypeError\u001b[39;00m \u001b[38;5;28;01mas\u001b[39;00m e:\n\u001b[1;32m    487\u001b[0m     \u001b[38;5;28;01mif\u001b[39;00m \u001b[38;5;124m\"\u001b[39m\u001b[38;5;124mprocess() takes exactly\u001b[39m\u001b[38;5;124m\"\u001b[39m \u001b[38;5;129;01min\u001b[39;00m \u001b[38;5;28mstr\u001b[39m(e):\n",
      "File \u001b[0;32m~/.local/lib/python3.9/site-packages/jwst/dark_current/dark_current_step.py:66\u001b[0m, in \u001b[0;36mDarkCurrentStep.process\u001b[0;34m(self, input)\u001b[0m\n\u001b[1;32m     63\u001b[0m         save_dark_data_as_dark_model(dark_data, dark_model, instrument)\n\u001b[1;32m     64\u001b[0m     dark_model\u001b[38;5;241m.\u001b[39mclose()\n\u001b[0;32m---> 66\u001b[0m     out_ramp \u001b[38;5;241m=\u001b[39m \u001b[43mdark_output_data_2_ramp_model\u001b[49m\u001b[43m(\u001b[49m\u001b[43mout_data\u001b[49m\u001b[43m,\u001b[49m\u001b[43m \u001b[49m\u001b[43minput_model\u001b[49m\u001b[43m)\u001b[49m\n\u001b[1;32m     68\u001b[0m \u001b[38;5;28;01mreturn\u001b[39;00m out_ramp\n",
      "File \u001b[0;32m~/.local/lib/python3.9/site-packages/jwst/dark_current/dark_current_step.py:129\u001b[0m, in \u001b[0;36mdark_output_data_2_ramp_model\u001b[0;34m(out_data, input_model)\u001b[0m\n\u001b[1;32m    127\u001b[0m     \u001b[38;5;28;01mreturn\u001b[39;00m input_model\n\u001b[1;32m    128\u001b[0m \u001b[38;5;28;01melse\u001b[39;00m:\n\u001b[0;32m--> 129\u001b[0m     out_model \u001b[38;5;241m=\u001b[39m \u001b[43minput_model\u001b[49m\u001b[38;5;241;43m.\u001b[39;49m\u001b[43mcopy\u001b[49m\u001b[43m(\u001b[49m\u001b[43m)\u001b[49m\n\u001b[1;32m    130\u001b[0m     out_model\u001b[38;5;241m.\u001b[39mmeta\u001b[38;5;241m.\u001b[39mcal_step\u001b[38;5;241m.\u001b[39mdark_sub \u001b[38;5;241m=\u001b[39m out_data\u001b[38;5;241m.\u001b[39mcal_step\n\u001b[1;32m    131\u001b[0m     out_model\u001b[38;5;241m.\u001b[39mdata \u001b[38;5;241m=\u001b[39m out_data\u001b[38;5;241m.\u001b[39mdata\n",
      "File \u001b[0;32m~/.local/lib/python3.9/site-packages/stdatamodels/model_base.py:399\u001b[0m, in \u001b[0;36mDataModel.copy\u001b[0;34m(self, memo)\u001b[0m\n\u001b[1;32m    393\u001b[0m \u001b[38;5;124;03m\"\"\"\u001b[39;00m\n\u001b[1;32m    394\u001b[0m \u001b[38;5;124;03mReturns a deep copy of this model.\u001b[39;00m\n\u001b[1;32m    395\u001b[0m \u001b[38;5;124;03m\"\"\"\u001b[39;00m\n\u001b[1;32m    396\u001b[0m result \u001b[38;5;241m=\u001b[39m \u001b[38;5;28mself\u001b[39m\u001b[38;5;241m.\u001b[39m\u001b[38;5;18m__class__\u001b[39m(init\u001b[38;5;241m=\u001b[39m\u001b[38;5;28;01mNone\u001b[39;00m,\n\u001b[1;32m    397\u001b[0m                         pass_invalid_values\u001b[38;5;241m=\u001b[39m\u001b[38;5;28mself\u001b[39m\u001b[38;5;241m.\u001b[39m_pass_invalid_values,\n\u001b[1;32m    398\u001b[0m                         strict_validation\u001b[38;5;241m=\u001b[39m\u001b[38;5;28mself\u001b[39m\u001b[38;5;241m.\u001b[39m_strict_validation)\n\u001b[0;32m--> 399\u001b[0m \u001b[38;5;28;43mself\u001b[39;49m\u001b[38;5;241;43m.\u001b[39;49m\u001b[43mclone\u001b[49m\u001b[43m(\u001b[49m\u001b[43mresult\u001b[49m\u001b[43m,\u001b[49m\u001b[43m \u001b[49m\u001b[38;5;28;43mself\u001b[39;49m\u001b[43m,\u001b[49m\u001b[43m \u001b[49m\u001b[43mdeepcopy\u001b[49m\u001b[38;5;241;43m=\u001b[39;49m\u001b[38;5;28;43;01mTrue\u001b[39;49;00m\u001b[43m,\u001b[49m\u001b[43m \u001b[49m\u001b[43mmemo\u001b[49m\u001b[38;5;241;43m=\u001b[39;49m\u001b[43mmemo\u001b[49m\u001b[43m)\u001b[49m\n\u001b[1;32m    400\u001b[0m \u001b[38;5;28;01mreturn\u001b[39;00m result\n",
      "File \u001b[0;32m~/.local/lib/python3.9/site-packages/stdatamodels/model_base.py:378\u001b[0m, in \u001b[0;36mDataModel.clone\u001b[0;34m(target, source, deepcopy, memo)\u001b[0m\n\u001b[1;32m    375\u001b[0m \u001b[38;5;129m@staticmethod\u001b[39m\n\u001b[1;32m    376\u001b[0m \u001b[38;5;28;01mdef\u001b[39;00m \u001b[38;5;21mclone\u001b[39m(target, source, deepcopy\u001b[38;5;241m=\u001b[39m\u001b[38;5;28;01mFalse\u001b[39;00m, memo\u001b[38;5;241m=\u001b[39m\u001b[38;5;28;01mNone\u001b[39;00m):\n\u001b[1;32m    377\u001b[0m     \u001b[38;5;28;01mif\u001b[39;00m deepcopy:\n\u001b[0;32m--> 378\u001b[0m         instance \u001b[38;5;241m=\u001b[39m \u001b[43mcopy\u001b[49m\u001b[38;5;241;43m.\u001b[39;49m\u001b[43mdeepcopy\u001b[49m\u001b[43m(\u001b[49m\u001b[43msource\u001b[49m\u001b[38;5;241;43m.\u001b[39;49m\u001b[43m_instance\u001b[49m\u001b[43m,\u001b[49m\u001b[43m \u001b[49m\u001b[43mmemo\u001b[49m\u001b[38;5;241;43m=\u001b[39;49m\u001b[43mmemo\u001b[49m\u001b[43m)\u001b[49m\n\u001b[1;32m    379\u001b[0m         target\u001b[38;5;241m.\u001b[39m_asdf \u001b[38;5;241m=\u001b[39m AsdfFile(instance)\n\u001b[1;32m    380\u001b[0m         target\u001b[38;5;241m.\u001b[39m_instance \u001b[38;5;241m=\u001b[39m instance\n",
      "File \u001b[0;32m~/.conda/envs/eureka-env/lib/python3.9/copy.py:172\u001b[0m, in \u001b[0;36mdeepcopy\u001b[0;34m(x, memo, _nil)\u001b[0m\n\u001b[1;32m    170\u001b[0m                 y \u001b[38;5;241m=\u001b[39m x\n\u001b[1;32m    171\u001b[0m             \u001b[38;5;28;01melse\u001b[39;00m:\n\u001b[0;32m--> 172\u001b[0m                 y \u001b[38;5;241m=\u001b[39m \u001b[43m_reconstruct\u001b[49m\u001b[43m(\u001b[49m\u001b[43mx\u001b[49m\u001b[43m,\u001b[49m\u001b[43m \u001b[49m\u001b[43mmemo\u001b[49m\u001b[43m,\u001b[49m\u001b[43m \u001b[49m\u001b[38;5;241;43m*\u001b[39;49m\u001b[43mrv\u001b[49m\u001b[43m)\u001b[49m\n\u001b[1;32m    174\u001b[0m \u001b[38;5;66;03m# If is its own copy, don't memoize.\u001b[39;00m\n\u001b[1;32m    175\u001b[0m \u001b[38;5;28;01mif\u001b[39;00m y \u001b[38;5;129;01mis\u001b[39;00m \u001b[38;5;129;01mnot\u001b[39;00m x:\n",
      "File \u001b[0;32m~/.conda/envs/eureka-env/lib/python3.9/copy.py:296\u001b[0m, in \u001b[0;36m_reconstruct\u001b[0;34m(x, memo, func, args, state, listiter, dictiter, deepcopy)\u001b[0m\n\u001b[1;32m    294\u001b[0m     \u001b[38;5;28;01mfor\u001b[39;00m key, value \u001b[38;5;129;01min\u001b[39;00m dictiter:\n\u001b[1;32m    295\u001b[0m         key \u001b[38;5;241m=\u001b[39m deepcopy(key, memo)\n\u001b[0;32m--> 296\u001b[0m         value \u001b[38;5;241m=\u001b[39m \u001b[43mdeepcopy\u001b[49m\u001b[43m(\u001b[49m\u001b[43mvalue\u001b[49m\u001b[43m,\u001b[49m\u001b[43m \u001b[49m\u001b[43mmemo\u001b[49m\u001b[43m)\u001b[49m\n\u001b[1;32m    297\u001b[0m         y[key] \u001b[38;5;241m=\u001b[39m value\n\u001b[1;32m    298\u001b[0m \u001b[38;5;28;01melse\u001b[39;00m:\n",
      "File \u001b[0;32m~/.conda/envs/eureka-env/lib/python3.9/copy.py:153\u001b[0m, in \u001b[0;36mdeepcopy\u001b[0;34m(x, memo, _nil)\u001b[0m\n\u001b[1;32m    151\u001b[0m copier \u001b[38;5;241m=\u001b[39m \u001b[38;5;28mgetattr\u001b[39m(x, \u001b[38;5;124m\"\u001b[39m\u001b[38;5;124m__deepcopy__\u001b[39m\u001b[38;5;124m\"\u001b[39m, \u001b[38;5;28;01mNone\u001b[39;00m)\n\u001b[1;32m    152\u001b[0m \u001b[38;5;28;01mif\u001b[39;00m copier \u001b[38;5;129;01mis\u001b[39;00m \u001b[38;5;129;01mnot\u001b[39;00m \u001b[38;5;28;01mNone\u001b[39;00m:\n\u001b[0;32m--> 153\u001b[0m     y \u001b[38;5;241m=\u001b[39m \u001b[43mcopier\u001b[49m\u001b[43m(\u001b[49m\u001b[43mmemo\u001b[49m\u001b[43m)\u001b[49m\n\u001b[1;32m    154\u001b[0m \u001b[38;5;28;01melse\u001b[39;00m:\n\u001b[1;32m    155\u001b[0m     reductor \u001b[38;5;241m=\u001b[39m dispatch_table\u001b[38;5;241m.\u001b[39mget(\u001b[38;5;28mcls\u001b[39m)\n",
      "\u001b[0;31mMemoryError\u001b[0m: Unable to allocate 2.79 GiB for an array with shape (119, 12, 256, 2048) and data type float32"
     ]
    }
   ],
   "source": [
    "s1_meta = s1.rampfitJWST(eventlabel, ecf_path=ecf_path) #, meta=meta) \n",
    "#you can't call s1 with changed meta yet, it only reads from .ecf file --> open issue/fix it"
   ]
  },
  {
   "cell_type": "markdown",
   "id": "538fda9a",
   "metadata": {},
   "source": [
    "## Stage 2: Additional pre-spectral-extraction steps, such as assignment of the world coordinate system, flat fielding, wavelength calibration. Outputs calibrated 2D images.\n",
    "#### Most important keywords in the .ecf:\n",
    "1. skip_bkg_subtract - Kevin had this set to false?? Check this.\n"
   ]
  },
  {
   "cell_type": "code",
   "execution_count": 20,
   "id": "4ed2f621",
   "metadata": {},
   "outputs": [],
   "source": [
    "ecffile = 'S2_' + eventlabel + '.ecf'\n",
    "meta = readECF.MetaClass(ecf_path, ecffile)\n",
    "\n",
    "meta.skip_bkg_subtract = True\n",
    "\n",
    "meta.write(ecf_path)"
   ]
  },
  {
   "cell_type": "markdown",
   "id": "a9c985ca",
   "metadata": {},
   "source": [
    "### Let's run Stage 2!"
   ]
  },
  {
   "cell_type": "code",
   "execution_count": null,
   "id": "fa5b39cd",
   "metadata": {},
   "outputs": [],
   "source": [
    "s2_meta = s2.calibrateJWST(eventlabel, ecf_path=ecf_path, s1_meta=s1_meta)"
   ]
  },
  {
   "cell_type": "markdown",
   "id": "9ad296fa",
   "metadata": {},
   "source": [
    "## Stage 3: Identify source position, perform background subtraction, perform spectral extraction to produce time series of 1D extracted spectra.\n",
    "#### Most important keywords in the .ecf:\n",
    "1. ncpu - Number of CPUs on your machine. This won't affect the data reduction except to make it run faster if you are able to run it on more CPUs. You can change this number to fit whatever machine you're running on.\n",
    "2. ywindow and xwindow - These specify the region of the image that you're interested in performing background subtraction and spectral extraction on. Note that this is the *full* image, not just the window surrounding the spectral trace. For this demo, the ywindow is set to ignore reference pixels on the edges of the detector, and the xwindow is set to select the region of higher throughput where the spectral trace can actually be seen in the image. These values were selected based on viewing an image in ds9 or another fits file viewer and looking at the position of the spectral trace.\n",
    "\n",
    "#### The next several parameters have to do with the background subtraction. Eureka! performs background subtraction by identifying the spectral trace, masking out a region surrounding the spectral trace, and using the remaining pixels as the background.\n",
    "\n",
    "3. bg_hw - Defines the half-width of the masked area not included in background subtraction. In this example, a value of 14 means that 14 pixels both above and below the identified source position are excluded from each column. We tested a few different values and found that 14 minimized the MAD of the resulting light curves, as it was large enough to exclude contamination from the spectrum but not so large that the background subtraction was affected by having less pixels to estimate the background from.\n",
    "4. bg_deg - The background is subtracted by doing a column-by-column polynomial fit, and bg_deg defines the degree of that fit. Setting bg_deg = -1 will just calculate and subtract out a median for each column. For this reduction, bg_deg=1 removed the background sufficiently well.\n",
    "\n",
    "#### Now some parameters for how we'll do the spectral extraction!\n",
    "5. spec_hw - Defines the half-width of the region you extract the spectrum from. In this example, a value of 9 means that the extraction will be perfomed on a box of pixels extending 9 up and 9 down from the identified source position. We tested several values and found that a half-width of 9 minimized the MAD of the resulting light curves, as it was wide enough to catch the edges of the spectrum but not so wide that it added too much background contamination.\n",
    "\n",
    "#### Finally, some parameters for printing diagnostics and saving output.\n",
    "6. isplots_S3 - How many plots do you want to create? This can be set to 1, 3, or 5, where a bigger number will print out more different types of diagnostic plots. The default in this demo is 5 so that you can see all the diagnostics."
   ]
  },
  {
   "cell_type": "code",
   "execution_count": null,
   "id": "3ec09997",
   "metadata": {},
   "outputs": [],
   "source": [
    "ecffile = 'S3_' + eventlabel + '.ecf'\n",
    "meta = readECF.MetaClass(ecf_path, ecffile)\n",
    "\n",
    "meta.ncpu = 1\n",
    "meta.xwindow = [4,64]\n",
    "meta.ywindow = [4,1704]\n",
    "\n",
    "meta.bg_hw = 14\n",
    "meta.bg_deg = 1\n",
    "\n",
    "meta.spec_hw = 9\n",
    "\n",
    "meta.isplots_S3 = 3\n",
    "\n",
    "meta.write(ecf_path)"
   ]
  },
  {
   "cell_type": "code",
   "execution_count": null,
   "id": "c4962857",
   "metadata": {},
   "outputs": [],
   "source": [
    "s3_spec, s3_meta = s3.reduce(eventlabel, ecf_path=ecf_path, s2_meta=s2_meta)"
   ]
  },
  {
   "cell_type": "markdown",
   "id": "09f69187",
   "metadata": {},
   "source": [
    "## Stage 4: Convert 1D extracted spectra to time series light curves"
   ]
  },
  {
   "cell_type": "code",
   "execution_count": null,
   "id": "45532b08",
   "metadata": {},
   "outputs": [],
   "source": [
    "ecffile = 'S4_' + eventlabel + '.ecf'\n",
    "meta = readECF.MetaClass(ecf_path, ecffile)\n",
    "\n",
    "#add parameters here\n",
    "\n",
    "meta.write(ecf_path)"
   ]
  },
  {
   "cell_type": "code",
   "execution_count": null,
   "id": "dbf8f1c6",
   "metadata": {},
   "outputs": [],
   "source": [
    "s4_spec, s4_lc, s4_meta = s4.genlc(eventlabel, ecf_path=ecf_path, s3_meta=s3_meta)"
   ]
  },
  {
   "cell_type": "markdown",
   "id": "35f6824f",
   "metadata": {},
   "source": [
    "## Stage 5: Light Curve Fitting"
   ]
  },
  {
   "cell_type": "code",
   "execution_count": null,
   "id": "aea3b849",
   "metadata": {},
   "outputs": [],
   "source": [
    "ecffile = 'S5_' + eventlabel + '.ecf'\n",
    "meta = readECF.MetaClass(ecf_path, ecffile)\n",
    "\n",
    "#add parameters here\n",
    "\n",
    "meta.write(ecf_path)"
   ]
  },
  {
   "cell_type": "code",
   "execution_count": null,
   "id": "ab0eb93b",
   "metadata": {},
   "outputs": [],
   "source": [
    "s5_meta = s5.fitlc(eventlabel, ecf_path=ecf_path, s4_meta=s4_meta)"
   ]
  },
  {
   "cell_type": "markdown",
   "id": "0d85e101",
   "metadata": {},
   "source": [
    "## Stage 6: Create Final Spectrum"
   ]
  },
  {
   "cell_type": "code",
   "execution_count": null,
   "id": "9d922718",
   "metadata": {},
   "outputs": [],
   "source": [
    "ecffile = 'S6_' + eventlabel + '.ecf'\n",
    "meta = readECF.MetaClass(ecf_path, ecffile)\n",
    "\n",
    "#add parameters here\n",
    "\n",
    "meta.write(ecf_path)"
   ]
  },
  {
   "cell_type": "code",
   "execution_count": null,
   "id": "116d15a6",
   "metadata": {},
   "outputs": [],
   "source": [
    "s6_meta = s6.plot_spectra(eventlabel, ecf_path=ecf_path, s5_meta=s5_meta)"
   ]
  }
 ],
 "metadata": {
  "kernelspec": {
   "display_name": "Python 3 (ipykernel)",
   "language": "python",
   "name": "python3"
  },
  "language_info": {
   "codemirror_mode": {
    "name": "ipython",
    "version": 3
   },
   "file_extension": ".py",
   "mimetype": "text/x-python",
   "name": "python",
   "nbconvert_exporter": "python",
   "pygments_lexer": "ipython3",
   "version": "3.9.10"
  }
 },
 "nbformat": 4,
 "nbformat_minor": 5
}
